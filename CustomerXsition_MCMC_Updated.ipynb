{
 "cells": [
  {
   "cell_type": "markdown",
   "metadata": {},
   "source": [
    "### Objective\n",
    "\n",
    "**This is a simulation of customer transition year-to-year by state of engagement based on the following buckets**:\n",
    "\n",
    "- **Loyal** *(At least 2 days of txns. in the last 365 days and at least 1 a year prior)*\n",
    "- **Occasional** *(At least 1 day of txns. in the last 365 days)*\n",
    "- **Dormant** *(No txn. in the last 365 days with at least 1 in the year prior)*\n",
    "- **Lapsed** *(No txn. in the last 730 days)*\n",
    "\n",
    "\n",
    "The expectation is to create a basis/status quo on which a Hidden Markov Model can be built in the near future (i.e. Simple Markov Chain) to better model customer transition from one state of engagement to another year-over-year.\n",
    "\n",
    "[Creating the Function](#fxn) <br>\n",
    "[Monte Carlo Simulation](#monte)<br>\n",
    "[Credit for Code](#credit)<br>"
   ]
  },
  {
   "cell_type": "code",
   "execution_count": 1,
   "metadata": {
    "ExecuteTime": {
     "end_time": "2020-10-21T19:44:17.133531Z",
     "start_time": "2020-10-21T19:44:12.608176Z"
    }
   },
   "outputs": [],
   "source": [
    "from __future__ import division, print_function, absolute_import\n",
    "\n",
    "import pandas as pd\n",
    "import numpy as np\n",
    "import matplotlib.pyplot as plt\n",
    "from google.oauth2 import service_account\n",
    "from google.cloud import bigquery\n",
    "from google.cloud import bigquery_storage\n",
    "\n",
    "import re\n",
    "import logging\n",
    "import warnings\n",
    "import time\n",
    "\n",
    "from tqdm import tqdm\n",
    "\n",
    "pd.set_option(\"display.max_columns\", None)\n",
    "pd.set_option('display.float_format', lambda x: '%.3f' % x)\n",
    "\n",
    "%config Application.log_level = \"ERROR\"\n",
    "\n",
    "warnings.filterwarnings(action='once')\n",
    "\n",
    "\n",
    "def snakify(column_name):\n",
    "    s1 = re.sub('(.)([A-Z][a-z]+)', r'\\1_\\2', column_name)\n",
    "    return re.sub('([a-z0-9])([A-Z])', r'\\1_\\2', s1).lower()"
   ]
  },
  {
   "cell_type": "code",
   "execution_count": 2,
   "metadata": {},
   "outputs": [
    {
     "name": "stdout",
     "output_type": "stream",
     "text": [
      "<class 'pandas.core.frame.DataFrame'>\n",
      "RangeIndex: 20000000 entries, 0 to 19999999\n",
      "Data columns (total 5 columns):\n",
      " #   Column                Dtype \n",
      "---  ------                ----- \n",
      " 0   customer_id           int64 \n",
      " 1   cust_state_now        object\n",
      " 2   cust_state_last_year  object\n",
      " 3   cust_state_2yrs_ago   object\n",
      " 4   cust_state_3yrs_ago   object\n",
      "dtypes: int64(1), object(4)\n",
      "memory usage: 762.9+ MB\n"
     ]
    }
   ],
   "source": [
    "key_path = '/home/jupyter/d00_key.json'\n",
    "credentials = service_account.Credentials.from_service_account_file(\n",
    "    key_path,\n",
    "    scopes=[\"https://www.googleapis.com/auth/cloud-platform\"],\n",
    ")\n",
    "\n",
    "bq_client = bigquery.Client(credentials=credentials,\n",
    "                            project=credentials.project_id)\n",
    "bqstorageclient = bigquery_storage.BigQueryReadClient(credentials=credentials)\n",
    "\n",
    "random_state = 777\n",
    "\n",
    "QUERY = \"\"\"SELECT\n",
    "  customer_id,\n",
    "  cust_state_now,\n",
    "  cust_state_last_year,\n",
    "  cust_state_2yrs_ago,\n",
    "  cust_state_3yrs_ago\n",
    "FROM\n",
    "  `dw-bq-data-d00.SANDBOX_ANALYTICS.st_cust_state`\"\"\"\n",
    "data = bq_client.query(QUERY).result().to_dataframe(\n",
    "    bqstorage_client=bqstorageclient).sample(\n",
    "        20000000, random_state=random_state).reset_index(drop=True)\n",
    "data.info()"
   ]
  },
  {
   "cell_type": "markdown",
   "metadata": {},
   "source": [
    "<a id='fxn'></a>"
   ]
  },
  {
   "cell_type": "code",
   "execution_count": 3,
   "metadata": {
    "ExecuteTime": {
     "end_time": "2020-10-21T19:49:20.368572Z",
     "start_time": "2020-10-21T19:49:20.292603Z"
    }
   },
   "outputs": [],
   "source": [
    "class CustomerXsition_v2(object):\n",
    "    \"\"\"\n",
    "    Class to create a Markov transition matrix from a pandas DataFrame given the column\n",
    "    that holds the observed states and make forecasts on future states based on empirical probabilities\n",
    "    in the transition matrix.\n",
    "\n",
    "    Monte Carlo simulations can be run using randomly generated sample data. \n",
    "    \"\"\"\n",
    "\n",
    "    def __init__(self, data, col1, col2):\n",
    "        \"\"\"\n",
    "        Initialize the Markov Chain process using the underlying pandas DataFrame with\n",
    "        the assumption that each possible state occurs in col1.\n",
    "\n",
    "        Parameters\n",
    "        ----------\n",
    "        data : pandas DataFrame\n",
    "            dataframe holding states in a column.\n",
    "        col1 : str\n",
    "            name of column holding current customer state.\n",
    "        col2 : str\n",
    "            name of column holding next customer state.\n",
    "        \"\"\"\n",
    "        self.data = data\n",
    "        self.col1 = col1\n",
    "        self.col2 = col2\n",
    "        self.states = sorted(list(self.data[self.col1].unique()))\n",
    "\n",
    "        self.index_dict = {\n",
    "            self.states[index]: index\n",
    "            for index in range(len(self.states))\n",
    "        }\n",
    "        self.state_dict = {\n",
    "            index: self.states[index]\n",
    "            for index in range(len(self.states))\n",
    "        }\n",
    "\n",
    "    def make_matrix(self, transition_matrix=None):\n",
    "        \"\"\"\n",
    "        Create the transition matrix from the underlying data or simply pass it if known.\n",
    "\n",
    "        Parameters\n",
    "        ----------\n",
    "        transition_matrix: n-D array where n is the number of possible states\n",
    "        \"\"\"\n",
    "        if transition_matrix:\n",
    "            self.transition_matrix = transition_matrix\n",
    "        else:\n",
    "            self.transition_matrix = np.asarray([[\n",
    "                len(self.data[(self.data[self.col1] == self.state_dict[i])\n",
    "                              & (self.data[self.col2] == self.state_dict[j])])\n",
    "                / len(self.data[self.data[self.col1] == self.state_dict[i]])\n",
    "                for j in range(len(self.states))\n",
    "            ] for i in range(len(self.states))])\n",
    "\n",
    "        return self.transition_matrix\n",
    "\n",
    "    def next_state(self, current_state):\n",
    "        \"\"\"\n",
    "        Simulates the next state based on the current state and the probability of transitioning to\n",
    "        other states.\n",
    "\n",
    "        Parameters\n",
    "        ----------\n",
    "        current_state: str\n",
    "            The customer's current state.\n",
    "        \"\"\"\n",
    "        return np.random.choice(\n",
    "            self.states,\n",
    "            p=self.transition_matrix[self.index_dict[current_state], :])\n",
    "\n",
    "    def generate_states(self, current_state, n=10):\n",
    "        \"\"\"\n",
    "        Simulates the next n states based on the current state.\n",
    "\n",
    "        Parameters\n",
    "        ----------\n",
    "        current_state: str\n",
    "             The customer's current state.\n",
    "        n: int\n",
    "             The number of steps into the future to simulate.\n",
    "        \"\"\"\n",
    "        future_states = []\n",
    "        for i in range(n):\n",
    "            next_state = self.next_state(current_state)\n",
    "            future_states.append(next_state)\n",
    "            current_state = next_state\n",
    "\n",
    "        return future_states\n",
    "\n",
    "    def monte_carlo_sim(self, samp_size=None, samp_n=0.05, n_sim=1000000):\n",
    "        \"\"\"\n",
    "        Performs a Monte Carlo simulation using randomly generated samples of the data n_sim times.\n",
    "\n",
    "        Parameters\n",
    "        ----------\n",
    "        samp_size : int\n",
    "            size of desired sample\n",
    "        samp_n : float\n",
    "            percentage of data desired to create sample.\n",
    "            Used by default when samp_size is not explicitly passed.\n",
    "        n_sim : int\n",
    "            no. of loops/simulations.\n",
    "            Default is 1 million.\n",
    "        \"\"\"\n",
    "        self.nested_dict = {\n",
    "            self.states[index]:\n",
    "            {self.states[index]: []\n",
    "             for index in range(len(self.states))}\n",
    "            for index in range(len(self.states))\n",
    "        }\n",
    "\n",
    "        for i in range(n_sim):\n",
    "            if samp_size:\n",
    "                self.sample = self.data.sample(samp_size)\n",
    "            else:\n",
    "                self.sample = self.data.sample(int(samp_n * len(self.data)))\n",
    "\n",
    "            f_states = {\n",
    "                state: [\n",
    "                    self.next_state(state) for i in range(\n",
    "                        len(self.sample[self.sample[column] == state]))\n",
    "                ]\n",
    "                for state in self.states\n",
    "            }\n",
    "            [[\n",
    "                self.nested_dict[s][state].append(f_states[s].count(state))\n",
    "                for state in self.states\n",
    "            ] for s in self.states]\n",
    "\n",
    "        for s in self.states:\n",
    "            for state in self.states:\n",
    "                print(\n",
    "                    s, 'to', state + ':',\n",
    "                    round(\n",
    "                        np.mean(self.nested_dict[s][state]) /\n",
    "                        len(self.sample[self.sample[column] == s]) * 100, 2),\n",
    "                    '% chance')"
   ]
  },
  {
   "cell_type": "code",
   "execution_count": 4,
   "metadata": {
    "ExecuteTime": {
     "end_time": "2020-10-21T19:49:22.209211Z",
     "start_time": "2020-10-21T19:49:22.191220Z"
    }
   },
   "outputs": [
    {
     "name": "stdout",
     "output_type": "stream",
     "text": [
      "\n",
      "    Class to create a Markov transition matrix from a pandas DataFrame given the column\n",
      "    that holds the observed states and make forecasts on future states based on empirical probabilities\n",
      "    in the transition matrix.\n",
      "\n",
      "    Monte Carlo simulations can be run using randomly generated sample data. \n",
      "    \n"
     ]
    }
   ],
   "source": [
    "print(CustomerXsition_v2.__doc__)"
   ]
  },
  {
   "cell_type": "code",
   "execution_count": 5,
   "metadata": {
    "ExecuteTime": {
     "end_time": "2020-10-21T19:49:25.053934Z",
     "start_time": "2020-10-21T19:49:25.045954Z"
    }
   },
   "outputs": [
    {
     "name": "stdout",
     "output_type": "stream",
     "text": [
      "\n",
      "        Initialize the Markov Chain process using the underlying pandas DataFrame with\n",
      "        the assumption that each possible state occurs in col1.\n",
      "\n",
      "        Parameters\n",
      "        ----------\n",
      "        data : pandas DataFrame\n",
      "            dataframe holding states in a column.\n",
      "        col1 : str\n",
      "            name of column holding current customer state.\n",
      "        col2 : str\n",
      "            name of column holding next customer state.\n",
      "        \n"
     ]
    }
   ],
   "source": [
    "print(CustomerXsition_v2.__init__.__doc__)"
   ]
  },
  {
   "cell_type": "code",
   "execution_count": 6,
   "metadata": {},
   "outputs": [
    {
     "data": {
      "text/html": [
       "<div>\n",
       "<style scoped>\n",
       "    .dataframe tbody tr th:only-of-type {\n",
       "        vertical-align: middle;\n",
       "    }\n",
       "\n",
       "    .dataframe tbody tr th {\n",
       "        vertical-align: top;\n",
       "    }\n",
       "\n",
       "    .dataframe thead th {\n",
       "        text-align: right;\n",
       "    }\n",
       "</style>\n",
       "<table border=\"1\" class=\"dataframe\">\n",
       "  <thead>\n",
       "    <tr style=\"text-align: right;\">\n",
       "      <th></th>\n",
       "      <th>customer_id</th>\n",
       "      <th>cust_state_now</th>\n",
       "      <th>cust_state_last_year</th>\n",
       "      <th>cust_state_2yrs_ago</th>\n",
       "      <th>cust_state_3yrs_ago</th>\n",
       "    </tr>\n",
       "  </thead>\n",
       "  <tbody>\n",
       "    <tr>\n",
       "      <th>0</th>\n",
       "      <td>1000180740772</td>\n",
       "      <td>Lapsed</td>\n",
       "      <td>Dormant</td>\n",
       "      <td>Occassional</td>\n",
       "      <td>Lapsed</td>\n",
       "    </tr>\n",
       "    <tr>\n",
       "      <th>1</th>\n",
       "      <td>1001245312650</td>\n",
       "      <td>Occassional</td>\n",
       "      <td>Lapsed</td>\n",
       "      <td>Lapsed</td>\n",
       "      <td>Lapsed</td>\n",
       "    </tr>\n",
       "    <tr>\n",
       "      <th>2</th>\n",
       "      <td>1000280723079</td>\n",
       "      <td>Occassional</td>\n",
       "      <td>Dormant</td>\n",
       "      <td>Occassional</td>\n",
       "      <td>Dormant</td>\n",
       "    </tr>\n",
       "    <tr>\n",
       "      <th>3</th>\n",
       "      <td>1000269938254</td>\n",
       "      <td>Lapsed</td>\n",
       "      <td>Dormant</td>\n",
       "      <td>Occassional</td>\n",
       "      <td>Dormant</td>\n",
       "    </tr>\n",
       "    <tr>\n",
       "      <th>4</th>\n",
       "      <td>1000905568518</td>\n",
       "      <td>Lapsed</td>\n",
       "      <td>Dormant</td>\n",
       "      <td>Occassional</td>\n",
       "      <td>Lapsed</td>\n",
       "    </tr>\n",
       "  </tbody>\n",
       "</table>\n",
       "</div>"
      ],
      "text/plain": [
       "     customer_id cust_state_now cust_state_last_year cust_state_2yrs_ago  \\\n",
       "0  1000180740772         Lapsed              Dormant         Occassional   \n",
       "1  1001245312650    Occassional               Lapsed              Lapsed   \n",
       "2  1000280723079    Occassional              Dormant         Occassional   \n",
       "3  1000269938254         Lapsed              Dormant         Occassional   \n",
       "4  1000905568518         Lapsed              Dormant         Occassional   \n",
       "\n",
       "  cust_state_3yrs_ago  \n",
       "0              Lapsed  \n",
       "1              Lapsed  \n",
       "2             Dormant  \n",
       "3             Dormant  \n",
       "4              Lapsed  "
      ]
     },
     "execution_count": 6,
     "metadata": {},
     "output_type": "execute_result"
    }
   ],
   "source": [
    "data.head()"
   ]
  },
  {
   "cell_type": "code",
   "execution_count": 7,
   "metadata": {
    "ExecuteTime": {
     "end_time": "2020-10-21T19:50:17.731431Z",
     "start_time": "2020-10-21T19:49:42.962178Z"
    }
   },
   "outputs": [],
   "source": [
    "cXsition_2019 = CustomerXsition_v2(data, 'cust_state_3yrs_ago', 'cust_state_2yrs_ago')\n",
    "mx_2019 = cXsition_2019.make_matrix()"
   ]
  },
  {
   "cell_type": "code",
   "execution_count": 8,
   "metadata": {
    "ExecuteTime": {
     "end_time": "2020-10-21T19:50:17.778348Z",
     "start_time": "2020-10-21T19:50:17.764375Z"
    }
   },
   "outputs": [
    {
     "data": {
      "text/plain": [
       "array([[0.        , 0.72211647, 0.        , 0.27788353],\n",
       "       [0.        , 0.58711359, 0.        , 0.41288641],\n",
       "       [0.2052242 , 0.        , 0.61684554, 0.17793025],\n",
       "       [0.55706811, 0.        , 0.17427535, 0.26865655]])"
      ]
     },
     "execution_count": 8,
     "metadata": {},
     "output_type": "execute_result"
    }
   ],
   "source": [
    "mx_2019"
   ]
  },
  {
   "cell_type": "code",
   "execution_count": 9,
   "metadata": {
    "ExecuteTime": {
     "end_time": "2020-10-21T19:50:17.823189Z",
     "start_time": "2020-10-21T19:50:17.812220Z"
    }
   },
   "outputs": [
    {
     "data": {
      "text/plain": [
       "['Dormant', 'Lapsed', 'Loyal', 'Occassional']"
      ]
     },
     "execution_count": 9,
     "metadata": {},
     "output_type": "execute_result"
    }
   ],
   "source": [
    "cXsition_2019.states"
   ]
  },
  {
   "cell_type": "code",
   "execution_count": 10,
   "metadata": {
    "ExecuteTime": {
     "end_time": "2020-10-21T19:50:17.898987Z",
     "start_time": "2020-10-21T19:50:17.887020Z"
    }
   },
   "outputs": [
    {
     "name": "stdout",
     "output_type": "stream",
     "text": [
      "The current state is: Dormant \n",
      "A simulated next state is: Lapsed\n",
      "\n",
      "\n",
      "The current state is: Lapsed \n",
      "A simulated next state is: Occassional\n",
      "\n",
      "\n",
      "The current state is: Loyal \n",
      "A simulated next state is: Loyal\n",
      "\n",
      "\n",
      "The current state is: Occassional \n",
      "A simulated next state is: Occassional\n",
      "\n",
      "\n"
     ]
    }
   ],
   "source": [
    "for state in cXsition_2019.states:\n",
    "    print('The current state is:', state, '\\nA simulated next state is:',\n",
    "          cXsition_2019.next_state(state))\n",
    "    print('\\n')"
   ]
  },
  {
   "cell_type": "code",
   "execution_count": 11,
   "metadata": {
    "ExecuteTime": {
     "end_time": "2020-10-21T19:50:52.643407Z",
     "start_time": "2020-10-21T19:50:17.945859Z"
    }
   },
   "outputs": [],
   "source": [
    "cXsition_2020 = CustomerXsition_v2(data, 'cust_state_2yrs_ago', 'cust_state_last_year')\n",
    "mx_2020 = cXsition_2020.make_matrix()"
   ]
  },
  {
   "cell_type": "code",
   "execution_count": 12,
   "metadata": {
    "ExecuteTime": {
     "end_time": "2020-10-21T19:50:52.690285Z",
     "start_time": "2020-10-21T19:50:52.679314Z"
    }
   },
   "outputs": [
    {
     "data": {
      "text/plain": [
       "array([[0.        , 0.75659257, 0.        , 0.24340743],\n",
       "       [0.        , 0.63214867, 0.        , 0.36785133],\n",
       "       [0.2435606 , 0.        , 0.55291281, 0.20352659],\n",
       "       [0.61908867, 0.        , 0.13332733, 0.247584  ]])"
      ]
     },
     "execution_count": 12,
     "metadata": {},
     "output_type": "execute_result"
    }
   ],
   "source": [
    "mx_2020"
   ]
  },
  {
   "cell_type": "code",
   "execution_count": 13,
   "metadata": {
    "ExecuteTime": {
     "end_time": "2020-10-21T19:51:26.693978Z",
     "start_time": "2020-10-21T19:51:26.682494Z"
    }
   },
   "outputs": [
    {
     "data": {
      "text/plain": [
       "['Dormant', 'Lapsed', 'Loyal', 'Occassional']"
      ]
     },
     "execution_count": 13,
     "metadata": {},
     "output_type": "execute_result"
    }
   ],
   "source": [
    "cXsition_2020.states"
   ]
  },
  {
   "cell_type": "code",
   "execution_count": 14,
   "metadata": {},
   "outputs": [],
   "source": [
    "cXsition_2021 = CustomerXsition_v2(data, 'cust_state_last_year', 'cust_state_now')\n",
    "mx_2021 = cXsition_2021.make_matrix()"
   ]
  },
  {
   "cell_type": "code",
   "execution_count": 15,
   "metadata": {},
   "outputs": [
    {
     "data": {
      "text/plain": [
       "array([[0.        , 0.77166951, 0.        , 0.22833049],\n",
       "       [0.        , 0.62057365, 0.        , 0.37942635],\n",
       "       [0.26450016, 0.        , 0.49960939, 0.23589045],\n",
       "       [0.61787869, 0.        , 0.11651006, 0.26561124]])"
      ]
     },
     "execution_count": 15,
     "metadata": {},
     "output_type": "execute_result"
    }
   ],
   "source": [
    "mx_2021"
   ]
  },
  {
   "cell_type": "code",
   "execution_count": 16,
   "metadata": {},
   "outputs": [
    {
     "data": {
      "text/plain": [
       "['Dormant', 'Lapsed', 'Loyal', 'Occassional']"
      ]
     },
     "execution_count": 16,
     "metadata": {},
     "output_type": "execute_result"
    }
   ],
   "source": [
    "cXsition_2021.states"
   ]
  },
  {
   "cell_type": "code",
   "execution_count": null,
   "metadata": {},
   "outputs": [],
   "source": []
  },
  {
   "cell_type": "code",
   "execution_count": null,
   "metadata": {},
   "outputs": [],
   "source": []
  },
  {
   "cell_type": "code",
   "execution_count": null,
   "metadata": {},
   "outputs": [],
   "source": []
  },
  {
   "cell_type": "code",
   "execution_count": null,
   "metadata": {},
   "outputs": [],
   "source": []
  },
  {
   "cell_type": "code",
   "execution_count": null,
   "metadata": {},
   "outputs": [],
   "source": []
  },
  {
   "cell_type": "code",
   "execution_count": 17,
   "metadata": {
    "ExecuteTime": {
     "end_time": "2020-03-04T16:06:36.447013Z",
     "start_time": "2020-03-04T16:01:09.732312Z"
    }
   },
   "outputs": [],
   "source": [
    "# simulating a customer's state in 2019...\n",
    "\n",
    "data['pred_state_2019'] = data['state_2018'].apply(cXsition.next_state)"
   ]
  },
  {
   "cell_type": "code",
   "execution_count": 18,
   "metadata": {
    "ExecuteTime": {
     "end_time": "2020-03-04T16:06:36.462486Z",
     "start_time": "2020-03-04T16:06:36.449240Z"
    }
   },
   "outputs": [
    {
     "data": {
      "text/html": [
       "<div>\n",
       "<style scoped>\n",
       "    .dataframe tbody tr th:only-of-type {\n",
       "        vertical-align: middle;\n",
       "    }\n",
       "\n",
       "    .dataframe tbody tr th {\n",
       "        vertical-align: top;\n",
       "    }\n",
       "\n",
       "    .dataframe thead th {\n",
       "        text-align: right;\n",
       "    }\n",
       "</style>\n",
       "<table border=\"1\" class=\"dataframe\">\n",
       "  <thead>\n",
       "    <tr style=\"text-align: right;\">\n",
       "      <th></th>\n",
       "      <th>address_id</th>\n",
       "      <th>freq_2016</th>\n",
       "      <th>freq_2017</th>\n",
       "      <th>freq_2018</th>\n",
       "      <th>freq_2019</th>\n",
       "      <th>state_2017</th>\n",
       "      <th>state_2018</th>\n",
       "      <th>state_2019</th>\n",
       "      <th>pred_state_2019</th>\n",
       "    </tr>\n",
       "  </thead>\n",
       "  <tbody>\n",
       "    <tr>\n",
       "      <th>0</th>\n",
       "      <td>3000049708318</td>\n",
       "      <td>nan</td>\n",
       "      <td>nan</td>\n",
       "      <td>nan</td>\n",
       "      <td>nan</td>\n",
       "      <td>lapsed</td>\n",
       "      <td>lapsed</td>\n",
       "      <td>lapsed</td>\n",
       "      <td>lapsed</td>\n",
       "    </tr>\n",
       "    <tr>\n",
       "      <th>1</th>\n",
       "      <td>3000056367699</td>\n",
       "      <td>nan</td>\n",
       "      <td>nan</td>\n",
       "      <td>nan</td>\n",
       "      <td>nan</td>\n",
       "      <td>lapsed</td>\n",
       "      <td>lapsed</td>\n",
       "      <td>lapsed</td>\n",
       "      <td>occassional</td>\n",
       "    </tr>\n",
       "    <tr>\n",
       "      <th>2</th>\n",
       "      <td>3000068725008</td>\n",
       "      <td>nan</td>\n",
       "      <td>nan</td>\n",
       "      <td>nan</td>\n",
       "      <td>nan</td>\n",
       "      <td>lapsed</td>\n",
       "      <td>lapsed</td>\n",
       "      <td>lapsed</td>\n",
       "      <td>lapsed</td>\n",
       "    </tr>\n",
       "    <tr>\n",
       "      <th>3</th>\n",
       "      <td>3000396727694</td>\n",
       "      <td>1.000</td>\n",
       "      <td>nan</td>\n",
       "      <td>nan</td>\n",
       "      <td>1.000</td>\n",
       "      <td>dormant</td>\n",
       "      <td>lapsed</td>\n",
       "      <td>occassional</td>\n",
       "      <td>lapsed</td>\n",
       "    </tr>\n",
       "    <tr>\n",
       "      <th>4</th>\n",
       "      <td>3000148387504</td>\n",
       "      <td>nan</td>\n",
       "      <td>nan</td>\n",
       "      <td>nan</td>\n",
       "      <td>nan</td>\n",
       "      <td>lapsed</td>\n",
       "      <td>lapsed</td>\n",
       "      <td>lapsed</td>\n",
       "      <td>lapsed</td>\n",
       "    </tr>\n",
       "  </tbody>\n",
       "</table>\n",
       "</div>"
      ],
      "text/plain": [
       "      address_id  freq_2016  freq_2017  freq_2018  freq_2019 state_2017  \\\n",
       "0  3000049708318        nan        nan        nan        nan     lapsed   \n",
       "1  3000056367699        nan        nan        nan        nan     lapsed   \n",
       "2  3000068725008        nan        nan        nan        nan     lapsed   \n",
       "3  3000396727694      1.000        nan        nan      1.000    dormant   \n",
       "4  3000148387504        nan        nan        nan        nan     lapsed   \n",
       "\n",
       "  state_2018   state_2019 pred_state_2019  \n",
       "0     lapsed       lapsed          lapsed  \n",
       "1     lapsed       lapsed     occassional  \n",
       "2     lapsed       lapsed          lapsed  \n",
       "3     lapsed  occassional          lapsed  \n",
       "4     lapsed       lapsed          lapsed  "
      ]
     },
     "execution_count": 18,
     "metadata": {},
     "output_type": "execute_result"
    }
   ],
   "source": [
    "data.head()"
   ]
  },
  {
   "cell_type": "code",
   "execution_count": 19,
   "metadata": {
    "ExecuteTime": {
     "end_time": "2020-03-04T16:06:37.460152Z",
     "start_time": "2020-03-04T16:06:36.464414Z"
    }
   },
   "outputs": [
    {
     "data": {
      "text/plain": [
       "lapsed         6511953\n",
       "occassional    1270240\n",
       "active         1268657\n",
       "dormant         949150\n",
       "Name: state_2019, dtype: int64"
      ]
     },
     "execution_count": 19,
     "metadata": {},
     "output_type": "execute_result"
    }
   ],
   "source": [
    "data['state_2019'].value_counts()"
   ]
  },
  {
   "cell_type": "code",
   "execution_count": 20,
   "metadata": {
    "ExecuteTime": {
     "end_time": "2020-03-04T16:06:39.012203Z",
     "start_time": "2020-03-04T16:06:37.461995Z"
    }
   },
   "outputs": [
    {
     "data": {
      "text/plain": [
       "lapsed         6489567\n",
       "active         1340758\n",
       "occassional    1288129\n",
       "dormant         881546\n",
       "Name: pred_state_2019, dtype: int64"
      ]
     },
     "execution_count": 20,
     "metadata": {},
     "output_type": "execute_result"
    }
   ],
   "source": [
    "data['pred_state_2019'].value_counts()"
   ]
  },
  {
   "cell_type": "code",
   "execution_count": 21,
   "metadata": {
    "ExecuteTime": {
     "end_time": "2020-03-04T16:07:12.153681Z",
     "start_time": "2020-03-04T16:06:39.014207Z"
    }
   },
   "outputs": [
    {
     "name": "stdout",
     "output_type": "stream",
     "text": [
      "['active', 'occassional', 'dormant', 'lapsed']\n"
     ]
    },
    {
     "data": {
      "text/plain": [
       "array([[ 810089,  153659,  262112,   42797],\n",
       "       [ 168473,  238869,  208928,  653970],\n",
       "       [ 314535,  224109,  410506,       0],\n",
       "       [  47661,  671492,       0, 5792800]])"
      ]
     },
     "execution_count": 21,
     "metadata": {},
     "output_type": "execute_result"
    }
   ],
   "source": [
    "print(states)\n",
    "confusion_matrix(data['state_2019'].values,\n",
    "                 data['pred_state_2019'].values,\n",
    "                 labels=states)"
   ]
  },
  {
   "cell_type": "code",
   "execution_count": 22,
   "metadata": {
    "ExecuteTime": {
     "end_time": "2020-03-04T16:08:37.990733Z",
     "start_time": "2020-03-04T16:07:12.155581Z"
    }
   },
   "outputs": [
    {
     "data": {
      "text/plain": [
       "array([[[8200674,  530669],\n",
       "        [ 458568,  810089]],\n",
       "\n",
       "       [[7680500, 1049260],\n",
       "        [1031371,  238869]],\n",
       "\n",
       "       [[8579810,  471040],\n",
       "        [ 538644,  410506]],\n",
       "\n",
       "       [[2791280,  696767],\n",
       "        [ 719153, 5792800]]])"
      ]
     },
     "execution_count": 22,
     "metadata": {},
     "output_type": "execute_result"
    }
   ],
   "source": [
    "multilabel_confusion_matrix(data['state_2019'],\n",
    "                            data['pred_state_2019'],\n",
    "                            labels=states)"
   ]
  },
  {
   "cell_type": "code",
   "execution_count": 23,
   "metadata": {
    "ExecuteTime": {
     "end_time": "2020-03-04T16:21:11.173312Z",
     "start_time": "2020-03-04T16:08:37.994767Z"
    }
   },
   "outputs": [
    {
     "name": "stdout",
     "output_type": "stream",
     "text": [
      "              precision    recall  f1-score   support\n",
      "\n",
      "      active       0.60      0.64      0.62   1268657\n",
      " occassional       0.19      0.19      0.19   1270240\n",
      "     dormant       0.47      0.43      0.45    949150\n",
      "      lapsed       0.89      0.89      0.89   6511953\n",
      "\n",
      "    accuracy                           0.73  10000000\n",
      "   macro avg       0.54      0.54      0.54  10000000\n",
      "weighted avg       0.73      0.73      0.73  10000000\n",
      "\n"
     ]
    }
   ],
   "source": [
    "print(\n",
    "    classification_report(data['state_2019'].values,\n",
    "                          data['pred_state_2019'].values,\n",
    "                          labels=states,\n",
    "                          target_names=states))"
   ]
  },
  {
   "cell_type": "markdown",
   "metadata": {},
   "source": [
    "<a id='monte'></a>"
   ]
  },
  {
   "cell_type": "markdown",
   "metadata": {},
   "source": [
    "### Monte Carlo Simulation"
   ]
  },
  {
   "cell_type": "code",
   "execution_count": 24,
   "metadata": {
    "ExecuteTime": {
     "end_time": "2020-03-04T16:21:11.185930Z",
     "start_time": "2020-03-04T16:21:11.175715Z"
    }
   },
   "outputs": [],
   "source": [
    "def monte_sim(data, column, samp_size=None, samp_n=0.1, n_sim=1000):\n",
    "    states = list(data[column].unique())\n",
    "\n",
    "    nested_dict = {\n",
    "        states[index]: {states[index]: []\n",
    "                        for index in range(len(states))}\n",
    "        for index in range(len(states))\n",
    "    }\n",
    "    \n",
    "    print('Starting simulation...')\n",
    "    \n",
    "    for i in tqdm(list(range(n_sim))):\n",
    "        if samp_size:\n",
    "            sample = data.sample(samp_size)\n",
    "        else:\n",
    "            sample = data.sample(int(samp_n * len(data)))\n",
    "\n",
    "        f_states = {\n",
    "            state: [\n",
    "                cXsition.next_state(state)\n",
    "                for j in range(len(sample[sample[column] == state]))\n",
    "            ]\n",
    "            for state in states\n",
    "        }\n",
    "        [[\n",
    "            nested_dict[s][state].append(f_states[s].count(state))\n",
    "            for state in states\n",
    "        ] for s in states]\n",
    "        \n",
    "    print('Results of simulation stored.')\n",
    "    print('\\n')\n",
    "\n",
    "    for s in states:\n",
    "        for state in states:\n",
    "            print(\n",
    "                s, 'to', state + ':',\n",
    "                round(\n",
    "                    np.mean(nested_dict[s][state]) /\n",
    "                    len(sample[sample[column] == s]) * 100, 4), '% chance')\n",
    "            \n",
    "    print('\\n')        \n",
    "    print('Simulation complete!')"
   ]
  },
  {
   "cell_type": "code",
   "execution_count": 25,
   "metadata": {
    "ExecuteTime": {
     "end_time": "2020-03-04T16:50:04.044318Z",
     "start_time": "2020-03-04T16:21:11.188608Z"
    },
    "scrolled": true
   },
   "outputs": [
    {
     "name": "stderr",
     "output_type": "stream",
     "text": [
      "  0%|          | 0/100 [00:00<?, ?it/s]"
     ]
    },
    {
     "name": "stdout",
     "output_type": "stream",
     "text": [
      "Starting simulation...\n"
     ]
    },
    {
     "name": "stderr",
     "output_type": "stream",
     "text": [
      "100%|██████████| 100/100 [28:51<00:00, 17.31s/it]\n"
     ]
    },
    {
     "name": "stdout",
     "output_type": "stream",
     "text": [
      "Results of simulation stored.\n",
      "\n",
      "\n",
      "lapsed to lapsed: 91.2014 % chance\n",
      "lapsed to dormant: 0.0 % chance\n",
      "lapsed to occassional: 8.2535 % chance\n",
      "lapsed to active: 0.4345 % chance\n",
      "dormant to lapsed: 64.4818 % chance\n",
      "dormant to dormant: 0.0 % chance\n",
      "dormant to occassional: 31.7455 % chance\n",
      "dormant to active: 3.8894 % chance\n",
      "occassional to lapsed: 0.0 % chance\n",
      "occassional to dormant: 53.1169 % chance\n",
      "occassional to occassional: 29.1351 % chance\n",
      "occassional to active: 17.9672 % chance\n",
      "active to lapsed: 0.0 % chance\n",
      "active to dormant: 15.1568 % chance\n",
      "active to occassional: 8.2282 % chance\n",
      "active to active: 76.871 % chance\n",
      "\n",
      "\n",
      "Simulation complete!\n"
     ]
    }
   ],
   "source": [
    "monte_sim(data=data, column='state_2017', samp_n=0.05, n_sim=100)"
   ]
  },
  {
   "cell_type": "code",
   "execution_count": null,
   "metadata": {
    "ExecuteTime": {
     "start_time": "2020-03-04T19:01:36.870Z"
    },
    "scrolled": true
   },
   "outputs": [
    {
     "name": "stderr",
     "output_type": "stream",
     "text": [
      "  0%|          | 0/10000 [00:00<?, ?it/s]"
     ]
    },
    {
     "name": "stdout",
     "output_type": "stream",
     "text": [
      "Starting simulation...\n"
     ]
    },
    {
     "name": "stderr",
     "output_type": "stream",
     "text": [
      "  3%|▎         | 275/10000 [18:30<10:54:23,  4.04s/it]"
     ]
    }
   ],
   "source": [
    "monte_sim(data=data, column='state_2017', samp_n=0.01, n_sim=10000)"
   ]
  },
  {
   "cell_type": "markdown",
   "metadata": {},
   "source": [
    "<a id='credit'></a>"
   ]
  },
  {
   "cell_type": "markdown",
   "metadata": {},
   "source": [
    "Credit for basis of code:<br>\n",
    "**Alessandro Molina on Medium (Markov Chains with Python)** <br>\n",
    "https://medium.com/@__amol__/markov-chains-with-python-1109663f3678"
   ]
  },
  {
   "cell_type": "code",
   "execution_count": null,
   "metadata": {},
   "outputs": [],
   "source": []
  }
 ],
 "metadata": {
  "environment": {
   "name": "tf2-gpu.2-3.m81",
   "type": "gcloud",
   "uri": "gcr.io/deeplearning-platform-release/tf2-gpu.2-3:m81"
  },
  "kernelspec": {
   "display_name": "Python [conda env:cust_xn]",
   "language": "python",
   "name": "conda-env-cust_xn-py"
  },
  "language_info": {
   "codemirror_mode": {
    "name": "ipython",
    "version": 3
   },
   "file_extension": ".py",
   "mimetype": "text/x-python",
   "name": "python",
   "nbconvert_exporter": "python",
   "pygments_lexer": "ipython3",
   "version": "3.9.7"
  },
  "toc": {
   "base_numbering": 1,
   "nav_menu": {},
   "number_sections": true,
   "sideBar": true,
   "skip_h1_title": false,
   "title_cell": "Table of Contents",
   "title_sidebar": "Contents",
   "toc_cell": false,
   "toc_position": {},
   "toc_section_display": true,
   "toc_window_display": false
  },
  "varInspector": {
   "cols": {
    "lenName": 16,
    "lenType": 16,
    "lenVar": 40
   },
   "kernels_config": {
    "python": {
     "delete_cmd_postfix": "",
     "delete_cmd_prefix": "del ",
     "library": "var_list.py",
     "varRefreshCmd": "print(var_dic_list())"
    },
    "r": {
     "delete_cmd_postfix": ") ",
     "delete_cmd_prefix": "rm(",
     "library": "var_list.r",
     "varRefreshCmd": "cat(var_dic_list()) "
    }
   },
   "oldHeight": 410,
   "position": {
    "height": "432px",
    "left": "643px",
    "right": "20px",
    "top": "121px",
    "width": "503px"
   },
   "types_to_exclude": [
    "module",
    "function",
    "builtin_function_or_method",
    "instance",
    "_Feature"
   ],
   "varInspector_section_display": "block",
   "window_display": false
  }
 },
 "nbformat": 4,
 "nbformat_minor": 4
}
