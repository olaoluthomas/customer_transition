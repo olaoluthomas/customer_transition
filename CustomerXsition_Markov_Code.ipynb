{
 "cells": [
  {
   "cell_type": "markdown",
   "metadata": {},
   "source": [
    "### Objective\n",
    "\n",
    "**This is a simulation of customer transition year-to-year by state of engagement based on the following buckets**:\n",
    "\n",
    "- **Active** *(More than 3 transactions in the last 2 years with at least one transaction in each year)*\n",
    "- **Occassional** *(3 or fewer transactions in the last 2 years with at least one transaction in each year)*\n",
    "- **Dormant** *(At least one transaction two years ago with no transactions last year)*\n",
    "- **Lapsed** *(No transactions in either of the last two years)*\n",
    "\n",
    "\n",
    "The expectation is to create a basis/status quo on which a Hidden Markov Model can be built in the near future (i.e. Simple Markov Chain) to better model customer transition from one state of engagement to another year-over-year.\n",
    "\n",
    "[Credit for Code](#credit)<br>"
   ]
  },
  {
   "cell_type": "code",
   "execution_count": 1,
   "metadata": {
    "ExecuteTime": {
     "end_time": "2020-02-20T21:11:47.407354Z",
     "start_time": "2020-02-20T21:11:45.711309Z"
    }
   },
   "outputs": [],
   "source": [
    "from __future__ import division, print_function, absolute_import\n",
    "\n",
    "import pandas as pd\n",
    "import numpy as np\n",
    "import matplotlib.pyplot as plt\n",
    "from sklearn.metrics import confusion_matrix, classification_report, multilabel_confusion_matrix\n",
    "\n",
    "import re\n",
    "import logging\n",
    "import warnings\n",
    "\n",
    "pd.set_option('display.float_format', lambda x: '%.3f' % x)\n",
    "\n",
    "%config Application.log_level = \"ERROR\"\n",
    "\n",
    "warnings.filterwarnings(action='once')\n",
    "\n",
    "def snakify(column_name):\n",
    "    s1 = re.sub('(.)([A-Z][a-z]+)', r'\\1_\\2', column_name)\n",
    "    return re.sub('([a-z0-9])([A-Z])', r'\\1_\\2', s1).lower()"
   ]
  },
  {
   "cell_type": "code",
   "execution_count": 2,
   "metadata": {
    "ExecuteTime": {
     "end_time": "2020-02-20T21:11:47.415344Z",
     "start_time": "2020-02-20T21:11:47.409328Z"
    }
   },
   "outputs": [],
   "source": [
    "class CustomerXsition(object):\n",
    "    def __init__(self, transition_matrix, states):\n",
    "        '''\n",
    "        Initializes the Markov Chain.\n",
    "\n",
    "        Parameters\n",
    "        ----------\n",
    "        transition matrix: 4-d array\n",
    "            Matrix representing the probabilities of changing from one state to another.\n",
    "        states: 1-d array\n",
    "            Array of the states in same order as transition matrix\n",
    "        '''\n",
    "        self.transition_matrix = np.atleast_2d(transition_matrix)\n",
    "        self.states = states\n",
    "        self.index_dict = {\n",
    "            self.states[index]: index\n",
    "            for index in range(len(self.states))\n",
    "        }\n",
    "        self.state_dict = {\n",
    "            index: self.states[index]\n",
    "            for index in range(len(self.states))\n",
    "        }\n",
    "\n",
    "    def next_state(self, current_state):\n",
    "        '''\n",
    "        Simulates the next state based on the current state and the probability of transitioning to\n",
    "        other states.\n",
    "\n",
    "        Parameters\n",
    "        ----------\n",
    "        current_state: str\n",
    "            The customer's current state.\n",
    "        '''\n",
    "        return np.random.choice(\n",
    "            self.states,\n",
    "            p=self.transition_matrix[self.index_dict[current_state], :])"
   ]
  },
  {
   "cell_type": "code",
   "execution_count": 3,
   "metadata": {
    "ExecuteTime": {
     "end_time": "2020-02-20T21:11:47.434397Z",
     "start_time": "2020-02-20T21:11:47.417350Z"
    }
   },
   "outputs": [],
   "source": [
    "transition_matrix = [[0.767, 0.082, 0.151, 0], [0.179, 0.291, 0.530, 0],\n",
    "                     [0.039, 0.317, 0, 0.644], [0.004, 0.083, 0, 0.913]]\n",
    "\n",
    "states = ['active', 'occassional', 'dormant', 'lapsed']\n",
    "\n",
    "xsition = CustomerXsition(transition_matrix, states)"
   ]
  },
  {
   "cell_type": "code",
   "execution_count": 4,
   "metadata": {
    "ExecuteTime": {
     "end_time": "2020-02-20T21:11:47.457455Z",
     "start_time": "2020-02-20T21:11:47.437402Z"
    }
   },
   "outputs": [
    {
     "name": "stdout",
     "output_type": "stream",
     "text": [
      "The current state is: active\n",
      "The next state is active\n",
      "The next state is dormant\n",
      "The next state is lapsed\n",
      "The next state is lapsed\n",
      "The next state is lapsed\n",
      "The next state is lapsed\n",
      "The next state is lapsed\n",
      "The next state is lapsed\n",
      "The next state is lapsed\n",
      "The next state is occassional\n",
      "\n",
      "\n",
      "The current state is: occassional\n",
      "The next state is dormant\n",
      "The next state is active\n",
      "The next state is active\n",
      "The next state is active\n",
      "The next state is active\n",
      "The next state is active\n",
      "The next state is active\n",
      "The next state is active\n",
      "The next state is active\n",
      "The next state is occassional\n",
      "\n",
      "\n",
      "The current state is: dormant\n",
      "The next state is lapsed\n",
      "The next state is lapsed\n",
      "The next state is lapsed\n",
      "The next state is lapsed\n",
      "The next state is lapsed\n",
      "The next state is lapsed\n",
      "The next state is lapsed\n",
      "The next state is lapsed\n",
      "The next state is lapsed\n",
      "The next state is occassional\n",
      "\n",
      "\n",
      "The current state is: lapsed\n",
      "The next state is occassional\n",
      "The next state is dormant\n",
      "The next state is lapsed\n",
      "The next state is lapsed\n",
      "The next state is lapsed\n",
      "The next state is lapsed\n",
      "The next state is lapsed\n",
      "The next state is lapsed\n",
      "The next state is lapsed\n",
      "The next state is occassional\n",
      "\n",
      "\n"
     ]
    }
   ],
   "source": [
    "for state in states:\n",
    "    print('The current state is:', state)\n",
    "    for i in range(10):\n",
    "        next_state = xsition.next_state(state)\n",
    "        print('The next state is', next_state)\n",
    "        state = next_state\n",
    "\n",
    "    print('\\n')"
   ]
  },
  {
   "cell_type": "code",
   "execution_count": 5,
   "metadata": {
    "ExecuteTime": {
     "end_time": "2020-02-20T21:12:01.758029Z",
     "start_time": "2020-02-20T21:11:47.459968Z"
    }
   },
   "outputs": [
    {
     "data": {
      "text/html": [
       "<div>\n",
       "<style scoped>\n",
       "    .dataframe tbody tr th:only-of-type {\n",
       "        vertical-align: middle;\n",
       "    }\n",
       "\n",
       "    .dataframe tbody tr th {\n",
       "        vertical-align: top;\n",
       "    }\n",
       "\n",
       "    .dataframe thead th {\n",
       "        text-align: right;\n",
       "    }\n",
       "</style>\n",
       "<table border=\"1\" class=\"dataframe\">\n",
       "  <thead>\n",
       "    <tr style=\"text-align: right;\">\n",
       "      <th></th>\n",
       "      <th>address_id</th>\n",
       "      <th>freq_2016</th>\n",
       "      <th>freq_2017</th>\n",
       "      <th>freq_2018</th>\n",
       "      <th>freq_2019</th>\n",
       "      <th>state_2017</th>\n",
       "      <th>state_2018</th>\n",
       "      <th>state_2019</th>\n",
       "    </tr>\n",
       "  </thead>\n",
       "  <tbody>\n",
       "    <tr>\n",
       "      <th>0</th>\n",
       "      <td>3000049708318</td>\n",
       "      <td>nan</td>\n",
       "      <td>nan</td>\n",
       "      <td>nan</td>\n",
       "      <td>nan</td>\n",
       "      <td>lapsed</td>\n",
       "      <td>lapsed</td>\n",
       "      <td>lapsed</td>\n",
       "    </tr>\n",
       "    <tr>\n",
       "      <th>1</th>\n",
       "      <td>3000056367699</td>\n",
       "      <td>nan</td>\n",
       "      <td>nan</td>\n",
       "      <td>nan</td>\n",
       "      <td>nan</td>\n",
       "      <td>lapsed</td>\n",
       "      <td>lapsed</td>\n",
       "      <td>lapsed</td>\n",
       "    </tr>\n",
       "    <tr>\n",
       "      <th>2</th>\n",
       "      <td>3000068725008</td>\n",
       "      <td>nan</td>\n",
       "      <td>nan</td>\n",
       "      <td>nan</td>\n",
       "      <td>nan</td>\n",
       "      <td>lapsed</td>\n",
       "      <td>lapsed</td>\n",
       "      <td>lapsed</td>\n",
       "    </tr>\n",
       "    <tr>\n",
       "      <th>3</th>\n",
       "      <td>3000396727694</td>\n",
       "      <td>1.000</td>\n",
       "      <td>nan</td>\n",
       "      <td>nan</td>\n",
       "      <td>1.000</td>\n",
       "      <td>dormant</td>\n",
       "      <td>lapsed</td>\n",
       "      <td>occassional</td>\n",
       "    </tr>\n",
       "    <tr>\n",
       "      <th>4</th>\n",
       "      <td>3000148387504</td>\n",
       "      <td>nan</td>\n",
       "      <td>nan</td>\n",
       "      <td>nan</td>\n",
       "      <td>nan</td>\n",
       "      <td>lapsed</td>\n",
       "      <td>lapsed</td>\n",
       "      <td>lapsed</td>\n",
       "    </tr>\n",
       "    <tr>\n",
       "      <th>5</th>\n",
       "      <td>3000138788077</td>\n",
       "      <td>nan</td>\n",
       "      <td>2.000</td>\n",
       "      <td>nan</td>\n",
       "      <td>nan</td>\n",
       "      <td>occassional</td>\n",
       "      <td>dormant</td>\n",
       "      <td>lapsed</td>\n",
       "    </tr>\n",
       "    <tr>\n",
       "      <th>6</th>\n",
       "      <td>3000081144958</td>\n",
       "      <td>nan</td>\n",
       "      <td>nan</td>\n",
       "      <td>nan</td>\n",
       "      <td>nan</td>\n",
       "      <td>lapsed</td>\n",
       "      <td>lapsed</td>\n",
       "      <td>lapsed</td>\n",
       "    </tr>\n",
       "    <tr>\n",
       "      <th>7</th>\n",
       "      <td>3000102778408</td>\n",
       "      <td>nan</td>\n",
       "      <td>nan</td>\n",
       "      <td>nan</td>\n",
       "      <td>nan</td>\n",
       "      <td>lapsed</td>\n",
       "      <td>lapsed</td>\n",
       "      <td>lapsed</td>\n",
       "    </tr>\n",
       "    <tr>\n",
       "      <th>8</th>\n",
       "      <td>3000083699077</td>\n",
       "      <td>2.000</td>\n",
       "      <td>1.000</td>\n",
       "      <td>4.000</td>\n",
       "      <td>1.000</td>\n",
       "      <td>occassional</td>\n",
       "      <td>active</td>\n",
       "      <td>active</td>\n",
       "    </tr>\n",
       "    <tr>\n",
       "      <th>9</th>\n",
       "      <td>3000014225696</td>\n",
       "      <td>19.000</td>\n",
       "      <td>15.000</td>\n",
       "      <td>13.000</td>\n",
       "      <td>5.000</td>\n",
       "      <td>active</td>\n",
       "      <td>active</td>\n",
       "      <td>active</td>\n",
       "    </tr>\n",
       "  </tbody>\n",
       "</table>\n",
       "</div>"
      ],
      "text/plain": [
       "      address_id  freq_2016  freq_2017  freq_2018  freq_2019   state_2017  \\\n",
       "0  3000049708318        nan        nan        nan        nan       lapsed   \n",
       "1  3000056367699        nan        nan        nan        nan       lapsed   \n",
       "2  3000068725008        nan        nan        nan        nan       lapsed   \n",
       "3  3000396727694      1.000        nan        nan      1.000      dormant   \n",
       "4  3000148387504        nan        nan        nan        nan       lapsed   \n",
       "5  3000138788077        nan      2.000        nan        nan  occassional   \n",
       "6  3000081144958        nan        nan        nan        nan       lapsed   \n",
       "7  3000102778408        nan        nan        nan        nan       lapsed   \n",
       "8  3000083699077      2.000      1.000      4.000      1.000  occassional   \n",
       "9  3000014225696     19.000     15.000     13.000      5.000       active   \n",
       "\n",
       "  state_2018   state_2019  \n",
       "0     lapsed       lapsed  \n",
       "1     lapsed       lapsed  \n",
       "2     lapsed       lapsed  \n",
       "3     lapsed  occassional  \n",
       "4     lapsed       lapsed  \n",
       "5    dormant       lapsed  \n",
       "6     lapsed       lapsed  \n",
       "7     lapsed       lapsed  \n",
       "8     active       active  \n",
       "9     active       active  "
      ]
     },
     "execution_count": 5,
     "metadata": {},
     "output_type": "execute_result"
    }
   ],
   "source": [
    "data = pd.read_csv('xsition.csv')\n",
    "data.columns = [snakify(col) for col in data.columns]\n",
    "data.head(10)"
   ]
  },
  {
   "cell_type": "code",
   "execution_count": 6,
   "metadata": {
    "ExecuteTime": {
     "end_time": "2020-02-20T21:12:01.770547Z",
     "start_time": "2020-02-20T21:12:01.760018Z"
    }
   },
   "outputs": [],
   "source": [
    "class CustomerXsition_v2(object):\n",
    "    def __init__(self, data, col1, col2):\n",
    "        '''\n",
    "        Initialize the Markov process using the underlying data passed via pandas DataFrame.\n",
    "        The assumption is that each possible state occurs in col1 at the very least.\n",
    "\n",
    "        Parameters\n",
    "        ----------\n",
    "        data : pandas DataFrame\n",
    "            dataframe holding customer data.\n",
    "        col1 : str\n",
    "            name of column holding current customer state.\n",
    "        col2 : str\n",
    "            name of column holding next customer state.\n",
    "        '''\n",
    "        self.data = data\n",
    "        self.col1 = col1\n",
    "        self.col2 = col2\n",
    "        self.states = list(self.data[self.col1].unique())\n",
    "\n",
    "        self.index_dict = {\n",
    "            self.states[index]: index\n",
    "            for index in range(len(self.states))\n",
    "        }\n",
    "        self.state_dict = {\n",
    "            index: self.states[index]\n",
    "            for index in range(len(self.states))\n",
    "        }\n",
    "\n",
    "    def make_matrix(self, transition_matrix=None):\n",
    "        '''\n",
    "        Create the transition matrix from the underlying data or simply pass it if known.\n",
    "\n",
    "        Parameters\n",
    "        ----------\n",
    "        transition_matrix: n-D array where n is the number of possible states\n",
    "        '''\n",
    "        if transition_matrix:\n",
    "            self.transition_matrix = transition_matrix\n",
    "        else:\n",
    "            self.transition_matrix = np.asarray([[\n",
    "                len(self.data[(self.data[self.col1] == self.state_dict[i])\n",
    "                              & (self.data[self.col2] == self.state_dict[j])])\n",
    "                / len(self.data[self.data[self.col1] == self.state_dict[i]])\n",
    "                for j in range(len(self.states))\n",
    "            ] for i in range(len(self.states))])\n",
    "\n",
    "        return self.transition_matrix\n",
    "\n",
    "    def next_state(self, current_state):\n",
    "        '''\n",
    "        Simulates the next state based on the current state and the probability of transitioning to\n",
    "        other states.\n",
    "\n",
    "        Parameters\n",
    "        ----------\n",
    "        current_state: str\n",
    "            The customer's current state.\n",
    "        '''\n",
    "        return np.random.choice(\n",
    "            self.states,\n",
    "            p=self.transition_matrix[self.index_dict[current_state], :])\n",
    "\n",
    "    def generate_states(self, current_state, n=10):\n",
    "        '''\n",
    "        Simulates the next n states based on the current state.\n",
    "\n",
    "        Parameters\n",
    "        ----------\n",
    "        current_state: str\n",
    "             The customer's current state.\n",
    "        n: int\n",
    "             The number of steps into the future to simulate.\n",
    "        '''\n",
    "        future_states = []\n",
    "        for i in range(n):\n",
    "            next_state = self.next_state(current_state)\n",
    "            future_states.append(next_state)\n",
    "            current_state = next_state\n",
    "\n",
    "        return future_states"
   ]
  },
  {
   "cell_type": "code",
   "execution_count": 7,
   "metadata": {
    "ExecuteTime": {
     "end_time": "2020-02-20T21:12:34.994664Z",
     "start_time": "2020-02-20T21:12:01.775060Z"
    }
   },
   "outputs": [],
   "source": [
    "cXsition = CustomerXsition_v2(data, 'state_2017', 'state_2018')\n",
    "mx = cXsition.make_matrix()"
   ]
  },
  {
   "cell_type": "code",
   "execution_count": 8,
   "metadata": {
    "ExecuteTime": {
     "end_time": "2020-02-20T21:12:35.002128Z",
     "start_time": "2020-02-20T21:12:34.998118Z"
    }
   },
   "outputs": [
    {
     "data": {
      "text/plain": [
       "array([[0.91300026, 0.        , 0.08265169, 0.00434805],\n",
       "       [0.64400022, 0.        , 0.31709816, 0.03890162],\n",
       "       [0.        , 0.53016917, 0.29035774, 0.17947309],\n",
       "       [0.        , 0.15116895, 0.08205081, 0.76678024]])"
      ]
     },
     "execution_count": 8,
     "metadata": {},
     "output_type": "execute_result"
    }
   ],
   "source": [
    "mx"
   ]
  },
  {
   "cell_type": "code",
   "execution_count": 9,
   "metadata": {
    "ExecuteTime": {
     "end_time": "2020-02-20T21:12:35.024136Z",
     "start_time": "2020-02-20T21:12:35.004132Z"
    }
   },
   "outputs": [
    {
     "data": {
      "text/plain": [
       "['lapsed', 'dormant', 'occassional', 'active']"
      ]
     },
     "execution_count": 9,
     "metadata": {},
     "output_type": "execute_result"
    }
   ],
   "source": [
    "cXsition.states"
   ]
  },
  {
   "cell_type": "code",
   "execution_count": 10,
   "metadata": {
    "ExecuteTime": {
     "end_time": "2020-02-20T21:12:35.045159Z",
     "start_time": "2020-02-20T21:12:35.027119Z"
    }
   },
   "outputs": [
    {
     "name": "stdout",
     "output_type": "stream",
     "text": [
      "The current state is: lapsed \n",
      "A simulated next state is: lapsed\n",
      "\n",
      "\n",
      "The current state is: dormant \n",
      "A simulated next state is: lapsed\n",
      "\n",
      "\n",
      "The current state is: occassional \n",
      "A simulated next state is: active\n",
      "\n",
      "\n",
      "The current state is: active \n",
      "A simulated next state is: active\n",
      "\n",
      "\n"
     ]
    }
   ],
   "source": [
    "for state in cXsition.states:\n",
    "    print('The current state is:', state, '\\nA simulated next state is:',\n",
    "          cXsition.next_state(state))\n",
    "    print('\\n')"
   ]
  },
  {
   "cell_type": "code",
   "execution_count": 11,
   "metadata": {
    "ExecuteTime": {
     "end_time": "2020-02-20T21:16:16.932625Z",
     "start_time": "2020-02-20T21:12:35.047163Z"
    }
   },
   "outputs": [],
   "source": [
    "# simulating a customer's state in 2019...\n",
    "\n",
    "data['pred_state_2019'] = data['state_2018'].apply(cXsition.next_state)"
   ]
  },
  {
   "cell_type": "code",
   "execution_count": 12,
   "metadata": {
    "ExecuteTime": {
     "end_time": "2020-02-20T21:16:16.948130Z",
     "start_time": "2020-02-20T21:16:16.934594Z"
    }
   },
   "outputs": [
    {
     "data": {
      "text/html": [
       "<div>\n",
       "<style scoped>\n",
       "    .dataframe tbody tr th:only-of-type {\n",
       "        vertical-align: middle;\n",
       "    }\n",
       "\n",
       "    .dataframe tbody tr th {\n",
       "        vertical-align: top;\n",
       "    }\n",
       "\n",
       "    .dataframe thead th {\n",
       "        text-align: right;\n",
       "    }\n",
       "</style>\n",
       "<table border=\"1\" class=\"dataframe\">\n",
       "  <thead>\n",
       "    <tr style=\"text-align: right;\">\n",
       "      <th></th>\n",
       "      <th>address_id</th>\n",
       "      <th>freq_2016</th>\n",
       "      <th>freq_2017</th>\n",
       "      <th>freq_2018</th>\n",
       "      <th>freq_2019</th>\n",
       "      <th>state_2017</th>\n",
       "      <th>state_2018</th>\n",
       "      <th>state_2019</th>\n",
       "      <th>pred_state_2019</th>\n",
       "    </tr>\n",
       "  </thead>\n",
       "  <tbody>\n",
       "    <tr>\n",
       "      <th>0</th>\n",
       "      <td>3000049708318</td>\n",
       "      <td>nan</td>\n",
       "      <td>nan</td>\n",
       "      <td>nan</td>\n",
       "      <td>nan</td>\n",
       "      <td>lapsed</td>\n",
       "      <td>lapsed</td>\n",
       "      <td>lapsed</td>\n",
       "      <td>lapsed</td>\n",
       "    </tr>\n",
       "    <tr>\n",
       "      <th>1</th>\n",
       "      <td>3000056367699</td>\n",
       "      <td>nan</td>\n",
       "      <td>nan</td>\n",
       "      <td>nan</td>\n",
       "      <td>nan</td>\n",
       "      <td>lapsed</td>\n",
       "      <td>lapsed</td>\n",
       "      <td>lapsed</td>\n",
       "      <td>occassional</td>\n",
       "    </tr>\n",
       "    <tr>\n",
       "      <th>2</th>\n",
       "      <td>3000068725008</td>\n",
       "      <td>nan</td>\n",
       "      <td>nan</td>\n",
       "      <td>nan</td>\n",
       "      <td>nan</td>\n",
       "      <td>lapsed</td>\n",
       "      <td>lapsed</td>\n",
       "      <td>lapsed</td>\n",
       "      <td>lapsed</td>\n",
       "    </tr>\n",
       "    <tr>\n",
       "      <th>3</th>\n",
       "      <td>3000396727694</td>\n",
       "      <td>1.000</td>\n",
       "      <td>nan</td>\n",
       "      <td>nan</td>\n",
       "      <td>1.000</td>\n",
       "      <td>dormant</td>\n",
       "      <td>lapsed</td>\n",
       "      <td>occassional</td>\n",
       "      <td>lapsed</td>\n",
       "    </tr>\n",
       "    <tr>\n",
       "      <th>4</th>\n",
       "      <td>3000148387504</td>\n",
       "      <td>nan</td>\n",
       "      <td>nan</td>\n",
       "      <td>nan</td>\n",
       "      <td>nan</td>\n",
       "      <td>lapsed</td>\n",
       "      <td>lapsed</td>\n",
       "      <td>lapsed</td>\n",
       "      <td>lapsed</td>\n",
       "    </tr>\n",
       "  </tbody>\n",
       "</table>\n",
       "</div>"
      ],
      "text/plain": [
       "      address_id  freq_2016  freq_2017  freq_2018  freq_2019 state_2017  \\\n",
       "0  3000049708318        nan        nan        nan        nan     lapsed   \n",
       "1  3000056367699        nan        nan        nan        nan     lapsed   \n",
       "2  3000068725008        nan        nan        nan        nan     lapsed   \n",
       "3  3000396727694      1.000        nan        nan      1.000    dormant   \n",
       "4  3000148387504        nan        nan        nan        nan     lapsed   \n",
       "\n",
       "  state_2018   state_2019 pred_state_2019  \n",
       "0     lapsed       lapsed          lapsed  \n",
       "1     lapsed       lapsed     occassional  \n",
       "2     lapsed       lapsed          lapsed  \n",
       "3     lapsed  occassional          lapsed  \n",
       "4     lapsed       lapsed          lapsed  "
      ]
     },
     "execution_count": 12,
     "metadata": {},
     "output_type": "execute_result"
    }
   ],
   "source": [
    "data.head()"
   ]
  },
  {
   "cell_type": "code",
   "execution_count": 13,
   "metadata": {
    "ExecuteTime": {
     "end_time": "2020-02-20T21:16:17.897036Z",
     "start_time": "2020-02-20T21:16:16.950135Z"
    }
   },
   "outputs": [
    {
     "data": {
      "text/plain": [
       "lapsed         6511953\n",
       "occassional    1270240\n",
       "active         1268657\n",
       "dormant         949150\n",
       "Name: state_2019, dtype: int64"
      ]
     },
     "execution_count": 13,
     "metadata": {},
     "output_type": "execute_result"
    }
   ],
   "source": [
    "data['state_2019'].value_counts()"
   ]
  },
  {
   "cell_type": "code",
   "execution_count": 14,
   "metadata": {
    "ExecuteTime": {
     "end_time": "2020-02-20T21:16:19.293956Z",
     "start_time": "2020-02-20T21:16:17.898540Z"
    }
   },
   "outputs": [
    {
     "data": {
      "text/plain": [
       "lapsed         6489038\n",
       "active         1341965\n",
       "occassional    1288692\n",
       "dormant         880305\n",
       "Name: pred_state_2019, dtype: int64"
      ]
     },
     "execution_count": 14,
     "metadata": {},
     "output_type": "execute_result"
    }
   ],
   "source": [
    "data['pred_state_2019'].value_counts()"
   ]
  },
  {
   "cell_type": "code",
   "execution_count": 15,
   "metadata": {
    "ExecuteTime": {
     "end_time": "2020-02-20T21:16:43.982326Z",
     "start_time": "2020-02-20T21:16:19.295960Z"
    }
   },
   "outputs": [
    {
     "name": "stdout",
     "output_type": "stream",
     "text": [
      "['active', 'occassional', 'dormant', 'lapsed']\n"
     ]
    },
    {
     "data": {
      "text/plain": [
       "array([[ 810407,  154223,  261377,   42650],\n",
       "       [ 168609,  239197,  208594,  653840],\n",
       "       [ 315199,  223617,  410334,       0],\n",
       "       [  47750,  671655,       0, 5792548]], dtype=int64)"
      ]
     },
     "execution_count": 15,
     "metadata": {},
     "output_type": "execute_result"
    }
   ],
   "source": [
    "print(states)\n",
    "confusion_matrix(data['state_2019'].values,\n",
    "                 data['pred_state_2019'].values,\n",
    "                 labels=states)"
   ]
  },
  {
   "cell_type": "code",
   "execution_count": 16,
   "metadata": {
    "ExecuteTime": {
     "end_time": "2020-02-20T21:25:52.122440Z",
     "start_time": "2020-02-20T21:16:43.983830Z"
    }
   },
   "outputs": [
    {
     "name": "stdout",
     "output_type": "stream",
     "text": [
      "              precision    recall  f1-score   support\n",
      "\n",
      "      active       0.60      0.64      0.62   1268657\n",
      " occassional       0.19      0.19      0.19   1270240\n",
      "     dormant       0.47      0.43      0.45    949150\n",
      "      lapsed       0.89      0.89      0.89   6511953\n",
      "\n",
      "    accuracy                           0.73  10000000\n",
      "   macro avg       0.54      0.54      0.54  10000000\n",
      "weighted avg       0.73      0.73      0.73  10000000\n",
      "\n"
     ]
    }
   ],
   "source": [
    "print(\n",
    "    classification_report(data['state_2019'].values,\n",
    "                          data['pred_state_2019'].values,\n",
    "                          labels=states,\n",
    "                          target_names=states))"
   ]
  },
  {
   "cell_type": "code",
   "execution_count": 17,
   "metadata": {
    "ExecuteTime": {
     "end_time": "2020-02-20T21:26:54.780583Z",
     "start_time": "2020-02-20T21:25:52.124445Z"
    }
   },
   "outputs": [
    {
     "data": {
      "text/plain": [
       "array([[[8199785,  531558],\n",
       "        [ 458250,  810407]],\n",
       "\n",
       "       [[7680265, 1049495],\n",
       "        [1031043,  239197]],\n",
       "\n",
       "       [[8580879,  469971],\n",
       "        [ 538816,  410334]],\n",
       "\n",
       "       [[2791557,  696490],\n",
       "        [ 719405, 5792548]]], dtype=int64)"
      ]
     },
     "execution_count": 17,
     "metadata": {},
     "output_type": "execute_result"
    }
   ],
   "source": [
    "multilabel_confusion_matrix(data['state_2019'],\n",
    "                            data['pred_state_2019'],\n",
    "                            labels=states)"
   ]
  },
  {
   "cell_type": "code",
   "execution_count": 18,
   "metadata": {
    "ExecuteTime": {
     "end_time": "2020-02-20T21:27:02.957222Z",
     "start_time": "2020-02-20T21:26:54.782579Z"
    }
   },
   "outputs": [
    {
     "name": "stdout",
     "output_type": "stream",
     "text": [
      "active : 1.0577839400247664\n",
      "occassional : 1.0145263887139437\n",
      "dormant : 0.9274666807143234\n",
      "lapsed : 0.9964810863960474\n"
     ]
    }
   ],
   "source": [
    "# checking how close the numbers predicted are to actual...\n",
    "\n",
    "for state in states:\n",
    "    print(\n",
    "        state,\n",
    "        ':',\n",
    "        len(data[data['pred_state_2019'] == state]) /\n",
    "        len(data[data['state_2019'] == state]))"
   ]
  },
  {
   "cell_type": "markdown",
   "metadata": {},
   "source": [
    "<a id='credit'></a>"
   ]
  },
  {
   "cell_type": "markdown",
   "metadata": {},
   "source": [
    "Credit for code:<br>\n",
    "**Alessandro Molina on Medium (Markov Chains with Python)** <br>\n",
    "https://medium.com/@__amol__/markov-chains-with-python-1109663f3678"
   ]
  }
 ],
 "metadata": {
  "kernelspec": {
   "display_name": "Python 3",
   "language": "python",
   "name": "python3"
  },
  "varInspector": {
   "cols": {
    "lenName": 16,
    "lenType": 16,
    "lenVar": 40
   },
   "kernels_config": {
    "python": {
     "delete_cmd_postfix": "",
     "delete_cmd_prefix": "del ",
     "library": "var_list.py",
     "varRefreshCmd": "print(var_dic_list())"
    },
    "r": {
     "delete_cmd_postfix": ") ",
     "delete_cmd_prefix": "rm(",
     "library": "var_list.r",
     "varRefreshCmd": "cat(var_dic_list()) "
    }
   },
   "oldHeight": 410,
   "position": {
    "height": "40px",
    "left": "643px",
    "right": "20px",
    "top": "121px",
    "width": "503px"
   },
   "types_to_exclude": [
    "module",
    "function",
    "builtin_function_or_method",
    "instance",
    "_Feature"
   ],
   "varInspector_section_display": "none",
   "window_display": false
  }
 },
 "nbformat": 4,
 "nbformat_minor": 2
}
