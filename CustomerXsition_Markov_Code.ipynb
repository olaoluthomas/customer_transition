{
 "cells": [
  {
   "cell_type": "markdown",
   "metadata": {},
   "source": [
    "### Objective\n",
    "\n",
    "**This is a simulation of customer transition year-to-year by state of engagement based on the following buckets**:\n",
    "\n",
    "- **Active** *(More than 3 transactions in the last 2 years with at least one transaction in each year)*\n",
    "- **Occassional** *(3 or fewer transactions in the last 2 years with at least one transaction in each year)*\n",
    "- **Dormant** *(At least one transaction two years ago with no transactions last year)*\n",
    "- **Lapsed** *(No transactions in either of the last two years)*\n",
    "\n",
    "\n",
    "The expectation is to create a basis/status quo on which a Hidden Markov Model can be built in the near future (i.e. Simple Markov Chain) to better model customer transition from one state of engagement to another year-over-year.\n",
    "\n",
    "[Creating the Function](#fxn) <br>\n",
    "[Monte Carlo Simulation](#monte)<br>\n",
    "[Credit for Code](#credit)<br>"
   ]
  },
  {
   "cell_type": "code",
   "execution_count": 1,
   "metadata": {
    "ExecuteTime": {
     "end_time": "2020-02-27T16:55:01.289910Z",
     "start_time": "2020-02-27T16:54:59.754702Z"
    }
   },
   "outputs": [],
   "source": [
    "from __future__ import division, print_function, absolute_import\n",
    "\n",
    "import pandas as pd\n",
    "import numpy as np\n",
    "import matplotlib.pyplot as plt\n",
    "from sklearn.metrics import confusion_matrix, classification_report, multilabel_confusion_matrix\n",
    "\n",
    "import re\n",
    "import logging\n",
    "import warnings\n",
    "import time\n",
    "\n",
    "pd.set_option('display.float_format', lambda x: '%.3f' % x)\n",
    "\n",
    "%config Application.log_level = \"ERROR\"\n",
    "\n",
    "warnings.filterwarnings(action='once')\n",
    "\n",
    "def snakify(column_name):\n",
    "    s1 = re.sub('(.)([A-Z][a-z]+)', r'\\1_\\2', column_name)\n",
    "    return re.sub('([a-z0-9])([A-Z])', r'\\1_\\2', s1).lower()"
   ]
  },
  {
   "cell_type": "code",
   "execution_count": 2,
   "metadata": {
    "ExecuteTime": {
     "end_time": "2020-02-27T16:55:01.298933Z",
     "start_time": "2020-02-27T16:55:01.291913Z"
    }
   },
   "outputs": [],
   "source": [
    "class CustomerXsition(object):\n",
    "    def __init__(self, transition_matrix, states):\n",
    "        \"\"\"\n",
    "        Initializes the Markov Chain.\n",
    "\n",
    "        Parameters\n",
    "        ----------\n",
    "        transition matrix: 4-d array\n",
    "            Matrix representing the probabilities of changing from one state to another.\n",
    "        states: 1-d array\n",
    "            Array of the states in same order as transition matrix\n",
    "        \"\"\"\n",
    "        self.transition_matrix = np.atleast_2d(transition_matrix)\n",
    "        self.states = states\n",
    "        self.index_dict = {\n",
    "            self.states[index]: index\n",
    "            for index in range(len(self.states))\n",
    "        }\n",
    "        self.state_dict = {\n",
    "            index: self.states[index]\n",
    "            for index in range(len(self.states))\n",
    "        }\n",
    "\n",
    "    def next_state(self, current_state):\n",
    "        \"\"\"\n",
    "        Simulates the next state based on the current state and the probability of transitioning to\n",
    "        other states.\n",
    "\n",
    "        Parameters\n",
    "        ----------\n",
    "        current_state: str\n",
    "            The customer's current state.\n",
    "        \"\"\"\n",
    "        return np.random.choice(\n",
    "            self.states,\n",
    "            p=self.transition_matrix[self.index_dict[current_state], :])"
   ]
  },
  {
   "cell_type": "code",
   "execution_count": 3,
   "metadata": {
    "ExecuteTime": {
     "end_time": "2020-02-27T16:55:01.318430Z",
     "start_time": "2020-02-27T16:55:01.299936Z"
    }
   },
   "outputs": [],
   "source": [
    "transition_matrix = [[0.767, 0.082, 0.151, 0], [0.179, 0.291, 0.530, 0],\n",
    "                     [0.039, 0.317, 0, 0.644], [0.004, 0.083, 0, 0.913]]\n",
    "\n",
    "states = ['active', 'occassional', 'dormant', 'lapsed']\n",
    "\n",
    "xsition = CustomerXsition(transition_matrix, states)"
   ]
  },
  {
   "cell_type": "code",
   "execution_count": 4,
   "metadata": {
    "ExecuteTime": {
     "end_time": "2020-02-27T16:55:01.334470Z",
     "start_time": "2020-02-27T16:55:01.319431Z"
    }
   },
   "outputs": [
    {
     "name": "stdout",
     "output_type": "stream",
     "text": [
      "The current state is: active\n",
      "The next state is active\n",
      "The next state is active\n",
      "The next state is active\n",
      "The next state is active\n",
      "The next state is active\n",
      "The next state is active\n",
      "The next state is active\n",
      "The next state is active\n",
      "The next state is active\n",
      "The next state is active\n",
      "\n",
      "\n",
      "The current state is: occassional\n",
      "The next state is occassional\n",
      "The next state is dormant\n",
      "The next state is lapsed\n",
      "The next state is lapsed\n",
      "The next state is lapsed\n",
      "The next state is lapsed\n",
      "The next state is lapsed\n",
      "The next state is lapsed\n",
      "The next state is lapsed\n",
      "The next state is lapsed\n",
      "\n",
      "\n",
      "The current state is: dormant\n",
      "The next state is lapsed\n",
      "The next state is lapsed\n",
      "The next state is lapsed\n",
      "The next state is lapsed\n",
      "The next state is lapsed\n",
      "The next state is lapsed\n",
      "The next state is occassional\n",
      "The next state is active\n",
      "The next state is dormant\n",
      "The next state is lapsed\n",
      "\n",
      "\n",
      "The current state is: lapsed\n",
      "The next state is lapsed\n",
      "The next state is lapsed\n",
      "The next state is lapsed\n",
      "The next state is lapsed\n",
      "The next state is lapsed\n",
      "The next state is occassional\n",
      "The next state is occassional\n",
      "The next state is dormant\n",
      "The next state is lapsed\n",
      "The next state is lapsed\n",
      "\n",
      "\n"
     ]
    }
   ],
   "source": [
    "for state in states:\n",
    "    print('The current state is:', state)\n",
    "    for i in range(10):\n",
    "        next_state = xsition.next_state(state)\n",
    "        print('The next state is', next_state)\n",
    "        state = next_state\n",
    "\n",
    "    print('\\n')"
   ]
  },
  {
   "cell_type": "code",
   "execution_count": 5,
   "metadata": {
    "ExecuteTime": {
     "end_time": "2020-02-27T16:55:16.450025Z",
     "start_time": "2020-02-27T16:55:01.339484Z"
    }
   },
   "outputs": [
    {
     "data": {
      "text/html": [
       "<div>\n",
       "<style scoped>\n",
       "    .dataframe tbody tr th:only-of-type {\n",
       "        vertical-align: middle;\n",
       "    }\n",
       "\n",
       "    .dataframe tbody tr th {\n",
       "        vertical-align: top;\n",
       "    }\n",
       "\n",
       "    .dataframe thead th {\n",
       "        text-align: right;\n",
       "    }\n",
       "</style>\n",
       "<table border=\"1\" class=\"dataframe\">\n",
       "  <thead>\n",
       "    <tr style=\"text-align: right;\">\n",
       "      <th></th>\n",
       "      <th>address_id</th>\n",
       "      <th>freq_2016</th>\n",
       "      <th>freq_2017</th>\n",
       "      <th>freq_2018</th>\n",
       "      <th>freq_2019</th>\n",
       "      <th>state_2017</th>\n",
       "      <th>state_2018</th>\n",
       "      <th>state_2019</th>\n",
       "    </tr>\n",
       "  </thead>\n",
       "  <tbody>\n",
       "    <tr>\n",
       "      <th>0</th>\n",
       "      <td>3000049708318</td>\n",
       "      <td>nan</td>\n",
       "      <td>nan</td>\n",
       "      <td>nan</td>\n",
       "      <td>nan</td>\n",
       "      <td>lapsed</td>\n",
       "      <td>lapsed</td>\n",
       "      <td>lapsed</td>\n",
       "    </tr>\n",
       "    <tr>\n",
       "      <th>1</th>\n",
       "      <td>3000056367699</td>\n",
       "      <td>nan</td>\n",
       "      <td>nan</td>\n",
       "      <td>nan</td>\n",
       "      <td>nan</td>\n",
       "      <td>lapsed</td>\n",
       "      <td>lapsed</td>\n",
       "      <td>lapsed</td>\n",
       "    </tr>\n",
       "    <tr>\n",
       "      <th>2</th>\n",
       "      <td>3000068725008</td>\n",
       "      <td>nan</td>\n",
       "      <td>nan</td>\n",
       "      <td>nan</td>\n",
       "      <td>nan</td>\n",
       "      <td>lapsed</td>\n",
       "      <td>lapsed</td>\n",
       "      <td>lapsed</td>\n",
       "    </tr>\n",
       "    <tr>\n",
       "      <th>3</th>\n",
       "      <td>3000396727694</td>\n",
       "      <td>1.000</td>\n",
       "      <td>nan</td>\n",
       "      <td>nan</td>\n",
       "      <td>1.000</td>\n",
       "      <td>dormant</td>\n",
       "      <td>lapsed</td>\n",
       "      <td>occassional</td>\n",
       "    </tr>\n",
       "    <tr>\n",
       "      <th>4</th>\n",
       "      <td>3000148387504</td>\n",
       "      <td>nan</td>\n",
       "      <td>nan</td>\n",
       "      <td>nan</td>\n",
       "      <td>nan</td>\n",
       "      <td>lapsed</td>\n",
       "      <td>lapsed</td>\n",
       "      <td>lapsed</td>\n",
       "    </tr>\n",
       "    <tr>\n",
       "      <th>5</th>\n",
       "      <td>3000138788077</td>\n",
       "      <td>nan</td>\n",
       "      <td>2.000</td>\n",
       "      <td>nan</td>\n",
       "      <td>nan</td>\n",
       "      <td>occassional</td>\n",
       "      <td>dormant</td>\n",
       "      <td>lapsed</td>\n",
       "    </tr>\n",
       "    <tr>\n",
       "      <th>6</th>\n",
       "      <td>3000081144958</td>\n",
       "      <td>nan</td>\n",
       "      <td>nan</td>\n",
       "      <td>nan</td>\n",
       "      <td>nan</td>\n",
       "      <td>lapsed</td>\n",
       "      <td>lapsed</td>\n",
       "      <td>lapsed</td>\n",
       "    </tr>\n",
       "    <tr>\n",
       "      <th>7</th>\n",
       "      <td>3000102778408</td>\n",
       "      <td>nan</td>\n",
       "      <td>nan</td>\n",
       "      <td>nan</td>\n",
       "      <td>nan</td>\n",
       "      <td>lapsed</td>\n",
       "      <td>lapsed</td>\n",
       "      <td>lapsed</td>\n",
       "    </tr>\n",
       "    <tr>\n",
       "      <th>8</th>\n",
       "      <td>3000083699077</td>\n",
       "      <td>2.000</td>\n",
       "      <td>1.000</td>\n",
       "      <td>4.000</td>\n",
       "      <td>1.000</td>\n",
       "      <td>occassional</td>\n",
       "      <td>active</td>\n",
       "      <td>active</td>\n",
       "    </tr>\n",
       "    <tr>\n",
       "      <th>9</th>\n",
       "      <td>3000014225696</td>\n",
       "      <td>19.000</td>\n",
       "      <td>15.000</td>\n",
       "      <td>13.000</td>\n",
       "      <td>5.000</td>\n",
       "      <td>active</td>\n",
       "      <td>active</td>\n",
       "      <td>active</td>\n",
       "    </tr>\n",
       "  </tbody>\n",
       "</table>\n",
       "</div>"
      ],
      "text/plain": [
       "      address_id  freq_2016  freq_2017  freq_2018  freq_2019   state_2017  \\\n",
       "0  3000049708318        nan        nan        nan        nan       lapsed   \n",
       "1  3000056367699        nan        nan        nan        nan       lapsed   \n",
       "2  3000068725008        nan        nan        nan        nan       lapsed   \n",
       "3  3000396727694      1.000        nan        nan      1.000      dormant   \n",
       "4  3000148387504        nan        nan        nan        nan       lapsed   \n",
       "5  3000138788077        nan      2.000        nan        nan  occassional   \n",
       "6  3000081144958        nan        nan        nan        nan       lapsed   \n",
       "7  3000102778408        nan        nan        nan        nan       lapsed   \n",
       "8  3000083699077      2.000      1.000      4.000      1.000  occassional   \n",
       "9  3000014225696     19.000     15.000     13.000      5.000       active   \n",
       "\n",
       "  state_2018   state_2019  \n",
       "0     lapsed       lapsed  \n",
       "1     lapsed       lapsed  \n",
       "2     lapsed       lapsed  \n",
       "3     lapsed  occassional  \n",
       "4     lapsed       lapsed  \n",
       "5    dormant       lapsed  \n",
       "6     lapsed       lapsed  \n",
       "7     lapsed       lapsed  \n",
       "8     active       active  \n",
       "9     active       active  "
      ]
     },
     "execution_count": 5,
     "metadata": {},
     "output_type": "execute_result"
    }
   ],
   "source": [
    "data = pd.read_csv('xsition.csv')\n",
    "data.columns = [snakify(col) for col in data.columns]\n",
    "data.head(10)"
   ]
  },
  {
   "cell_type": "markdown",
   "metadata": {},
   "source": [
    "<a id='fxn'></a>"
   ]
  },
  {
   "cell_type": "code",
   "execution_count": 6,
   "metadata": {
    "ExecuteTime": {
     "end_time": "2020-02-27T16:55:16.462064Z",
     "start_time": "2020-02-27T16:55:16.453535Z"
    }
   },
   "outputs": [
    {
     "name": "stdout",
     "output_type": "stream",
     "text": [
      "<class 'pandas.core.frame.DataFrame'>\n",
      "RangeIndex: 10000000 entries, 0 to 9999999\n",
      "Data columns (total 8 columns):\n",
      "address_id    int64\n",
      "freq_2016     float64\n",
      "freq_2017     float64\n",
      "freq_2018     float64\n",
      "freq_2019     float64\n",
      "state_2017    object\n",
      "state_2018    object\n",
      "state_2019    object\n",
      "dtypes: float64(4), int64(1), object(3)\n",
      "memory usage: 610.4+ MB\n"
     ]
    }
   ],
   "source": [
    "data.info()"
   ]
  },
  {
   "cell_type": "code",
   "execution_count": 7,
   "metadata": {
    "ExecuteTime": {
     "end_time": "2020-02-27T16:55:16.487629Z",
     "start_time": "2020-02-27T16:55:16.465567Z"
    }
   },
   "outputs": [],
   "source": [
    "class CustomerXsition_v2(object):\n",
    "    \"\"\"\n",
    "    Class to create a Markov transition matrix from a pandas DataFrame given the column\n",
    "    that holds the observed states and make forecasts on future states based on empirical probailities\n",
    "    on transition matrix.\n",
    "\n",
    "    Monte Carlo simulations can be run using randomly generated sample data. \n",
    "    \"\"\"\n",
    "\n",
    "    def __init__(self, data, col1, col2):\n",
    "        \"\"\"\n",
    "        Initialize the Markov Chain process using the underlying pandas DataFrame with\n",
    "        the assumption that each possible state occurs in col1.\n",
    "\n",
    "        Parameters\n",
    "        ----------\n",
    "        data : pandas DataFrame\n",
    "            dataframe holding states in a column.\n",
    "        col1 : str\n",
    "            name of column holding current customer state.\n",
    "        col2 : str\n",
    "            name of column holding next customer state.\n",
    "        \"\"\"\n",
    "        self.data = data\n",
    "        self.col1 = col1\n",
    "        self.col2 = col2\n",
    "        self.states = list(self.data[self.col1].unique())\n",
    "\n",
    "        self.index_dict = {\n",
    "            self.states[index]: index\n",
    "            for index in range(len(self.states))\n",
    "        }\n",
    "        self.state_dict = {\n",
    "            index: self.states[index]\n",
    "            for index in range(len(self.states))\n",
    "        }\n",
    "\n",
    "    def make_matrix(self, transition_matrix=None):\n",
    "        \"\"\"\n",
    "        Create the transition matrix from the underlying data or simply pass it if known.\n",
    "\n",
    "        Parameters\n",
    "        ----------\n",
    "        transition_matrix: n-D array where n is the number of possible states\n",
    "        \"\"\"\n",
    "        if transition_matrix:\n",
    "            self.transition_matrix = transition_matrix\n",
    "        else:\n",
    "            self.transition_matrix = np.asarray([[\n",
    "                len(self.data[(self.data[self.col1] == self.state_dict[i])\n",
    "                              & (self.data[self.col2] == self.state_dict[j])])\n",
    "                / len(self.data[self.data[self.col1] == self.state_dict[i]])\n",
    "                for j in range(len(self.states))\n",
    "            ] for i in range(len(self.states))])\n",
    "\n",
    "        return self.transition_matrix\n",
    "\n",
    "    def next_state(self, current_state):\n",
    "        \"\"\"\n",
    "        Simulates the next state based on the current state and the probability of transitioning to\n",
    "        other states.\n",
    "\n",
    "        Parameters\n",
    "        ----------\n",
    "        current_state: str\n",
    "            The customer's current state.\n",
    "        \"\"\"\n",
    "        return np.random.choice(\n",
    "            self.states,\n",
    "            p=self.transition_matrix[self.index_dict[current_state], :])\n",
    "\n",
    "    def generate_states(self, current_state, n=10):\n",
    "        \"\"\"\n",
    "        Simulates the next n states based on the current state.\n",
    "\n",
    "        Parameters\n",
    "        ----------\n",
    "        current_state: str\n",
    "             The customer's current state.\n",
    "        n: int\n",
    "             The number of steps into the future to simulate.\n",
    "        \"\"\"\n",
    "        future_states = []\n",
    "        for i in range(n):\n",
    "            next_state = self.next_state(current_state)\n",
    "            future_states.append(next_state)\n",
    "            current_state = next_state\n",
    "\n",
    "        return future_states\n",
    "\n",
    "    def monte_carlo_sim(self, samp_size=None, samp_n=0.05, n_sim=1000000):\n",
    "        \"\"\"\n",
    "        Performs a Monte Carlo simulation using randomly generated samples of the data n_sim times.\n",
    "\n",
    "        Parameters\n",
    "        ----------\n",
    "        samp_size : int\n",
    "            size of desired sample\n",
    "        samp_n : float\n",
    "            percentage of data desired to create sample.\n",
    "            Used by default when samp_size is not explicitly passed.\n",
    "        n_sim : int\n",
    "            no. of loops/simulations.\n",
    "            Default is 1 million.\n",
    "        \"\"\"\n",
    "        self.nested_dict = {\n",
    "            self.states[index]:\n",
    "            {self.states[index]: []\n",
    "             for index in range(len(self.states))}\n",
    "            for index in range(len(self.states))\n",
    "        }\n",
    "\n",
    "        for i in range(n_sim):\n",
    "            if samp_size:\n",
    "                self.sample = self.data.sample(samp_size)\n",
    "            else:\n",
    "                self.sample = self.data.sample(int(samp_n * len(self.data)))\n",
    "\n",
    "            f_states = {\n",
    "                state: [\n",
    "                    self.next_state(state) for i in range(\n",
    "                        len(self.sample[self.sample[column] == state]))\n",
    "                ]\n",
    "                for state in self.states\n",
    "            }\n",
    "            [[\n",
    "                self.nested_dict[s][state].append(f_states[s].count(state))\n",
    "                for state in self.states\n",
    "            ] for s in self.states]\n",
    "\n",
    "        for s in self.states:\n",
    "            for state in self.states:\n",
    "                print(\n",
    "                    s, 'to', state + ':',\n",
    "                    round(\n",
    "                        np.mean(self.nested_dict[s][state]) /\n",
    "                        len(self.sample[self.sample[column] == s]) * 100, 2),\n",
    "                    '% chance')"
   ]
  },
  {
   "cell_type": "code",
   "execution_count": 8,
   "metadata": {
    "ExecuteTime": {
     "end_time": "2020-02-27T16:55:16.505677Z",
     "start_time": "2020-02-27T16:55:16.489634Z"
    }
   },
   "outputs": [
    {
     "name": "stdout",
     "output_type": "stream",
     "text": [
      "\n",
      "    Class to create a Markov transition matrix from a pandas DataFrame given the column\n",
      "    that holds the observed states and make forecasts on future states based on empirical probailities\n",
      "    on transition matrix.\n",
      "\n",
      "    Monte Carlo simulations can be run using randomly generated sample data. \n",
      "    \n"
     ]
    }
   ],
   "source": [
    "print(CustomerXsition_v2.__doc__)"
   ]
  },
  {
   "cell_type": "code",
   "execution_count": 9,
   "metadata": {
    "ExecuteTime": {
     "end_time": "2020-02-27T16:55:16.517711Z",
     "start_time": "2020-02-27T16:55:16.506684Z"
    }
   },
   "outputs": [
    {
     "name": "stdout",
     "output_type": "stream",
     "text": [
      "\n",
      "        Initialize the Markov Chain process using the underlying pandas DataFrame with\n",
      "        the assumption that each possible state occurs in col1.\n",
      "\n",
      "        Parameters\n",
      "        ----------\n",
      "        data : pandas DataFrame\n",
      "            dataframe holding states in a column.\n",
      "        col1 : str\n",
      "            name of column holding current customer state.\n",
      "        col2 : str\n",
      "            name of column holding next customer state.\n",
      "        \n"
     ]
    }
   ],
   "source": [
    "print(CustomerXsition_v2.__init__.__doc__)"
   ]
  },
  {
   "cell_type": "code",
   "execution_count": 10,
   "metadata": {
    "ExecuteTime": {
     "end_time": "2020-02-27T16:55:50.265709Z",
     "start_time": "2020-02-27T16:55:16.519714Z"
    }
   },
   "outputs": [],
   "source": [
    "cXsition = CustomerXsition_v2(data, 'state_2017', 'state_2018')\n",
    "mx = cXsition.make_matrix()"
   ]
  },
  {
   "cell_type": "code",
   "execution_count": 11,
   "metadata": {
    "ExecuteTime": {
     "end_time": "2020-02-27T16:55:50.271683Z",
     "start_time": "2020-02-27T16:55:50.267692Z"
    }
   },
   "outputs": [
    {
     "data": {
      "text/plain": [
       "array([[0.91300026, 0.        , 0.08265169, 0.00434805],\n",
       "       [0.64400022, 0.        , 0.31709816, 0.03890162],\n",
       "       [0.        , 0.53016917, 0.29035774, 0.17947309],\n",
       "       [0.        , 0.15116895, 0.08205081, 0.76678024]])"
      ]
     },
     "execution_count": 11,
     "metadata": {},
     "output_type": "execute_result"
    }
   ],
   "source": [
    "mx"
   ]
  },
  {
   "cell_type": "code",
   "execution_count": 12,
   "metadata": {
    "ExecuteTime": {
     "end_time": "2020-02-27T16:55:50.288731Z",
     "start_time": "2020-02-27T16:55:50.273687Z"
    }
   },
   "outputs": [
    {
     "data": {
      "text/plain": [
       "['lapsed', 'dormant', 'occassional', 'active']"
      ]
     },
     "execution_count": 12,
     "metadata": {},
     "output_type": "execute_result"
    }
   ],
   "source": [
    "cXsition.states"
   ]
  },
  {
   "cell_type": "code",
   "execution_count": 13,
   "metadata": {
    "ExecuteTime": {
     "end_time": "2020-02-27T16:55:50.301766Z",
     "start_time": "2020-02-27T16:55:50.290735Z"
    }
   },
   "outputs": [
    {
     "name": "stdout",
     "output_type": "stream",
     "text": [
      "The current state is: lapsed \n",
      "A simulated next state is: occassional\n",
      "\n",
      "\n",
      "The current state is: dormant \n",
      "A simulated next state is: lapsed\n",
      "\n",
      "\n",
      "The current state is: occassional \n",
      "A simulated next state is: occassional\n",
      "\n",
      "\n",
      "The current state is: active \n",
      "A simulated next state is: active\n",
      "\n",
      "\n"
     ]
    }
   ],
   "source": [
    "for state in cXsition.states:\n",
    "    print('The current state is:', state, '\\nA simulated next state is:',\n",
    "          cXsition.next_state(state))\n",
    "    print('\\n')"
   ]
  },
  {
   "cell_type": "code",
   "execution_count": 14,
   "metadata": {
    "ExecuteTime": {
     "end_time": "2020-02-27T16:56:24.777335Z",
     "start_time": "2020-02-27T16:55:50.302767Z"
    }
   },
   "outputs": [],
   "source": [
    "cXsition_2 = CustomerXsition_v2(data, 'state_2018', 'state_2019')\n",
    "mx_2 = cXsition_2.make_matrix()"
   ]
  },
  {
   "cell_type": "code",
   "execution_count": 15,
   "metadata": {
    "ExecuteTime": {
     "end_time": "2020-02-27T16:56:24.783294Z",
     "start_time": "2020-02-27T16:56:24.779282Z"
    }
   },
   "outputs": [
    {
     "data": {
      "text/plain": [
       "array([[0.91322847, 0.        , 0.00417906, 0.08259247],\n",
       "       [0.66953397, 0.        , 0.0323612 , 0.29810483],\n",
       "       [0.        , 0.17933841, 0.73381535, 0.08684624],\n",
       "       [0.        , 0.55338016, 0.16324041, 0.28337942]])"
      ]
     },
     "execution_count": 15,
     "metadata": {},
     "output_type": "execute_result"
    }
   ],
   "source": [
    "mx_2"
   ]
  },
  {
   "cell_type": "code",
   "execution_count": 16,
   "metadata": {
    "ExecuteTime": {
     "end_time": "2020-02-27T16:56:24.801969Z",
     "start_time": "2020-02-27T16:56:24.785299Z"
    }
   },
   "outputs": [
    {
     "data": {
      "text/plain": [
       "['lapsed', 'dormant', 'active', 'occassional']"
      ]
     },
     "execution_count": 16,
     "metadata": {},
     "output_type": "execute_result"
    }
   ],
   "source": [
    "cXsition_2.states"
   ]
  },
  {
   "cell_type": "code",
   "execution_count": 17,
   "metadata": {
    "ExecuteTime": {
     "end_time": "2020-02-27T17:00:15.737263Z",
     "start_time": "2020-02-27T16:56:24.802977Z"
    }
   },
   "outputs": [],
   "source": [
    "# simulating a customer's state in 2019...\n",
    "\n",
    "data['pred_state_2019'] = data['state_2018'].apply(cXsition.next_state)"
   ]
  },
  {
   "cell_type": "code",
   "execution_count": 18,
   "metadata": {
    "ExecuteTime": {
     "end_time": "2020-02-27T17:00:15.750299Z",
     "start_time": "2020-02-27T17:00:15.739268Z"
    }
   },
   "outputs": [
    {
     "data": {
      "text/html": [
       "<div>\n",
       "<style scoped>\n",
       "    .dataframe tbody tr th:only-of-type {\n",
       "        vertical-align: middle;\n",
       "    }\n",
       "\n",
       "    .dataframe tbody tr th {\n",
       "        vertical-align: top;\n",
       "    }\n",
       "\n",
       "    .dataframe thead th {\n",
       "        text-align: right;\n",
       "    }\n",
       "</style>\n",
       "<table border=\"1\" class=\"dataframe\">\n",
       "  <thead>\n",
       "    <tr style=\"text-align: right;\">\n",
       "      <th></th>\n",
       "      <th>address_id</th>\n",
       "      <th>freq_2016</th>\n",
       "      <th>freq_2017</th>\n",
       "      <th>freq_2018</th>\n",
       "      <th>freq_2019</th>\n",
       "      <th>state_2017</th>\n",
       "      <th>state_2018</th>\n",
       "      <th>state_2019</th>\n",
       "      <th>pred_state_2019</th>\n",
       "    </tr>\n",
       "  </thead>\n",
       "  <tbody>\n",
       "    <tr>\n",
       "      <th>0</th>\n",
       "      <td>3000049708318</td>\n",
       "      <td>nan</td>\n",
       "      <td>nan</td>\n",
       "      <td>nan</td>\n",
       "      <td>nan</td>\n",
       "      <td>lapsed</td>\n",
       "      <td>lapsed</td>\n",
       "      <td>lapsed</td>\n",
       "      <td>lapsed</td>\n",
       "    </tr>\n",
       "    <tr>\n",
       "      <th>1</th>\n",
       "      <td>3000056367699</td>\n",
       "      <td>nan</td>\n",
       "      <td>nan</td>\n",
       "      <td>nan</td>\n",
       "      <td>nan</td>\n",
       "      <td>lapsed</td>\n",
       "      <td>lapsed</td>\n",
       "      <td>lapsed</td>\n",
       "      <td>lapsed</td>\n",
       "    </tr>\n",
       "    <tr>\n",
       "      <th>2</th>\n",
       "      <td>3000068725008</td>\n",
       "      <td>nan</td>\n",
       "      <td>nan</td>\n",
       "      <td>nan</td>\n",
       "      <td>nan</td>\n",
       "      <td>lapsed</td>\n",
       "      <td>lapsed</td>\n",
       "      <td>lapsed</td>\n",
       "      <td>lapsed</td>\n",
       "    </tr>\n",
       "    <tr>\n",
       "      <th>3</th>\n",
       "      <td>3000396727694</td>\n",
       "      <td>1.000</td>\n",
       "      <td>nan</td>\n",
       "      <td>nan</td>\n",
       "      <td>1.000</td>\n",
       "      <td>dormant</td>\n",
       "      <td>lapsed</td>\n",
       "      <td>occassional</td>\n",
       "      <td>lapsed</td>\n",
       "    </tr>\n",
       "    <tr>\n",
       "      <th>4</th>\n",
       "      <td>3000148387504</td>\n",
       "      <td>nan</td>\n",
       "      <td>nan</td>\n",
       "      <td>nan</td>\n",
       "      <td>nan</td>\n",
       "      <td>lapsed</td>\n",
       "      <td>lapsed</td>\n",
       "      <td>lapsed</td>\n",
       "      <td>lapsed</td>\n",
       "    </tr>\n",
       "  </tbody>\n",
       "</table>\n",
       "</div>"
      ],
      "text/plain": [
       "      address_id  freq_2016  freq_2017  freq_2018  freq_2019 state_2017  \\\n",
       "0  3000049708318        nan        nan        nan        nan     lapsed   \n",
       "1  3000056367699        nan        nan        nan        nan     lapsed   \n",
       "2  3000068725008        nan        nan        nan        nan     lapsed   \n",
       "3  3000396727694      1.000        nan        nan      1.000    dormant   \n",
       "4  3000148387504        nan        nan        nan        nan     lapsed   \n",
       "\n",
       "  state_2018   state_2019 pred_state_2019  \n",
       "0     lapsed       lapsed          lapsed  \n",
       "1     lapsed       lapsed          lapsed  \n",
       "2     lapsed       lapsed          lapsed  \n",
       "3     lapsed  occassional          lapsed  \n",
       "4     lapsed       lapsed          lapsed  "
      ]
     },
     "execution_count": 18,
     "metadata": {},
     "output_type": "execute_result"
    }
   ],
   "source": [
    "data.head()"
   ]
  },
  {
   "cell_type": "code",
   "execution_count": 19,
   "metadata": {
    "ExecuteTime": {
     "end_time": "2020-02-27T17:00:16.892198Z",
     "start_time": "2020-02-27T17:00:15.752303Z"
    }
   },
   "outputs": [
    {
     "data": {
      "text/plain": [
       "lapsed         6511953\n",
       "occassional    1270240\n",
       "active         1268657\n",
       "dormant         949150\n",
       "Name: state_2019, dtype: int64"
      ]
     },
     "execution_count": 19,
     "metadata": {},
     "output_type": "execute_result"
    }
   ],
   "source": [
    "data['state_2019'].value_counts()"
   ]
  },
  {
   "cell_type": "code",
   "execution_count": 20,
   "metadata": {
    "ExecuteTime": {
     "end_time": "2020-02-27T17:00:18.515559Z",
     "start_time": "2020-02-27T17:00:16.894204Z"
    }
   },
   "outputs": [
    {
     "data": {
      "text/plain": [
       "lapsed         6490321\n",
       "active         1342167\n",
       "occassional    1286367\n",
       "dormant         881145\n",
       "Name: pred_state_2019, dtype: int64"
      ]
     },
     "execution_count": 20,
     "metadata": {},
     "output_type": "execute_result"
    }
   ],
   "source": [
    "data['pred_state_2019'].value_counts()"
   ]
  },
  {
   "cell_type": "code",
   "execution_count": 21,
   "metadata": {
    "ExecuteTime": {
     "end_time": "2020-02-27T17:00:47.994250Z",
     "start_time": "2020-02-27T17:00:18.518567Z"
    }
   },
   "outputs": [
    {
     "name": "stdout",
     "output_type": "stream",
     "text": [
      "['active', 'occassional', 'dormant', 'lapsed']\n"
     ]
    },
    {
     "data": {
      "text/plain": [
       "array([[ 810359,  153621,  262303,   42374],\n",
       "       [ 168591,  238375,  208946,  654328],\n",
       "       [ 315358,  223896,  409896,       0],\n",
       "       [  47859,  670475,       0, 5793619]], dtype=int64)"
      ]
     },
     "execution_count": 21,
     "metadata": {},
     "output_type": "execute_result"
    }
   ],
   "source": [
    "print(states)\n",
    "confusion_matrix(data['state_2019'].values,\n",
    "                 data['pred_state_2019'].values,\n",
    "                 labels=states)"
   ]
  },
  {
   "cell_type": "code",
   "execution_count": 22,
   "metadata": {
    "ExecuteTime": {
     "end_time": "2020-02-27T17:02:37.985644Z",
     "start_time": "2020-02-27T17:00:49.317423Z"
    }
   },
   "outputs": [
    {
     "data": {
      "text/plain": [
       "array([[[8199535,  531808],\n",
       "        [ 458298,  810359]],\n",
       "\n",
       "       [[7681768, 1047992],\n",
       "        [1031865,  238375]],\n",
       "\n",
       "       [[8579601,  471249],\n",
       "        [ 539254,  409896]],\n",
       "\n",
       "       [[2791345,  696702],\n",
       "        [ 718334, 5793619]]], dtype=int64)"
      ]
     },
     "execution_count": 22,
     "metadata": {},
     "output_type": "execute_result"
    }
   ],
   "source": [
    "multilabel_confusion_matrix(data['state_2019'],\n",
    "                            data['pred_state_2019'],\n",
    "                            labels=states)"
   ]
  },
  {
   "cell_type": "code",
   "execution_count": 24,
   "metadata": {
    "ExecuteTime": {
     "end_time": "2020-02-27T17:23:37.315460Z",
     "start_time": "2020-02-27T17:14:19.602515Z"
    }
   },
   "outputs": [
    {
     "name": "stdout",
     "output_type": "stream",
     "text": [
      "              precision    recall  f1-score   support\n",
      "\n",
      "      active       0.60      0.64      0.62   1268657\n",
      " occassional       0.19      0.19      0.19   1270240\n",
      "     dormant       0.47      0.43      0.45    949150\n",
      "      lapsed       0.89      0.89      0.89   6511953\n",
      "\n",
      "    accuracy                           0.73  10000000\n",
      "   macro avg       0.54      0.54      0.54  10000000\n",
      "weighted avg       0.73      0.73      0.73  10000000\n",
      "\n"
     ]
    }
   ],
   "source": [
    "print(\n",
    "    classification_report(data['state_2019'].values,\n",
    "                          data['pred_state_2019'].values,\n",
    "                          labels=states,\n",
    "                          target_names=states))"
   ]
  },
  {
   "cell_type": "markdown",
   "metadata": {},
   "source": [
    "<a id='monte'></a>"
   ]
  },
  {
   "cell_type": "markdown",
   "metadata": {},
   "source": [
    "### Monte Carlo Simulation"
   ]
  },
  {
   "cell_type": "code",
   "execution_count": 61,
   "metadata": {
    "ExecuteTime": {
     "end_time": "2020-03-02T19:35:57.396975Z",
     "start_time": "2020-03-02T19:35:57.385940Z"
    }
   },
   "outputs": [],
   "source": [
    "def monte_sim(data, column, samp_size=None, samp_n=0.1, loops=100000):\n",
    "    states = list(data[column].unique())\n",
    "\n",
    "    nested_dict = {\n",
    "        states[index]: {states[index]: []\n",
    "                        for index in range(len(states))}\n",
    "        for index in range(len(states))\n",
    "    }\n",
    "\n",
    "    for i in range(loops):\n",
    "        if samp_size:\n",
    "            sample = data.sample(samp_size)\n",
    "        else:\n",
    "            sample = data.sample(int(samp_n * len(data)))\n",
    "\n",
    "        f_states = {\n",
    "            state: [\n",
    "                cXsition.next_state(state)\n",
    "                for i in range(len(sample[sample[column] == state]))\n",
    "            ]\n",
    "            for state in states\n",
    "        }\n",
    "        [[\n",
    "            nested_dict[s][state].append(f_states[s].count(state))\n",
    "            for state in states\n",
    "        ] for s in states]\n",
    "\n",
    "    for s in states:\n",
    "        for state in states:\n",
    "            print(s, 'to', state + ':',\n",
    "                  round(np.mean(nested_dict[s][state]) / len(sample[sample[column] == s]) * 100, 4),\n",
    "                  '% chance')"
   ]
  },
  {
   "cell_type": "code",
   "execution_count": 62,
   "metadata": {
    "ExecuteTime": {
     "end_time": "2020-03-02T19:36:31.638569Z",
     "start_time": "2020-03-02T19:36:01.448844Z"
    }
   },
   "outputs": [
    {
     "name": "stdout",
     "output_type": "stream",
     "text": [
      "lapsed to lapsed: 91.3675 % chance\n",
      "lapsed to dormant: 0.0 % chance\n",
      "lapsed to occassional: 8.3084 % chance\n",
      "lapsed to active: 0.4295 % chance\n",
      "dormant to lapsed: 63.3775 % chance\n",
      "dormant to dormant: 0.0 % chance\n",
      "dormant to occassional: 31.3723 % chance\n",
      "dormant to active: 3.8966 % chance\n",
      "occassional to lapsed: 0.0 % chance\n",
      "occassional to dormant: 53.7415 % chance\n",
      "occassional to occassional: 29.1366 % chance\n",
      "occassional to active: 18.2138 % chance\n",
      "active to lapsed: 0.0 % chance\n",
      "active to dormant: 15.0188 % chance\n",
      "active to occassional: 8.1206 % chance\n",
      "active to active: 76.2912 % chance\n"
     ]
    }
   ],
   "source": [
    "monte_sim(data=data, column='state_2017', samp_n=0.05, loops=1000000)"
   ]
  },
  {
   "cell_type": "markdown",
   "metadata": {},
   "source": [
    "<a id='credit'></a>"
   ]
  },
  {
   "cell_type": "markdown",
   "metadata": {},
   "source": [
    "Credit for code:<br>\n",
    "**Alessandro Molina on Medium (Markov Chains with Python)** <br>\n",
    "https://medium.com/@__amol__/markov-chains-with-python-1109663f3678"
   ]
  }
 ],
 "metadata": {
  "kernelspec": {
   "display_name": "Python 3",
   "language": "python",
   "name": "python3"
  },
  "language_info": {
   "codemirror_mode": {
    "name": "ipython",
    "version": 3
   },
   "file_extension": ".py",
   "mimetype": "text/x-python",
   "name": "python",
   "nbconvert_exporter": "python",
   "pygments_lexer": "ipython3",
   "version": "3.7.1"
  },
  "varInspector": {
   "cols": {
    "lenName": 16,
    "lenType": 16,
    "lenVar": 40
   },
   "kernels_config": {
    "python": {
     "delete_cmd_postfix": "",
     "delete_cmd_prefix": "del ",
     "library": "var_list.py",
     "varRefreshCmd": "print(var_dic_list())"
    },
    "r": {
     "delete_cmd_postfix": ") ",
     "delete_cmd_prefix": "rm(",
     "library": "var_list.r",
     "varRefreshCmd": "cat(var_dic_list()) "
    }
   },
   "oldHeight": 410,
   "position": {
    "height": "432px",
    "left": "643px",
    "right": "20px",
    "top": "121px",
    "width": "503px"
   },
   "types_to_exclude": [
    "module",
    "function",
    "builtin_function_or_method",
    "instance",
    "_Feature"
   ],
   "varInspector_section_display": "block",
   "window_display": false
  }
 },
 "nbformat": 4,
 "nbformat_minor": 2
}
